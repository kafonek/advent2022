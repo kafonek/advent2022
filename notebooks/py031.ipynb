{
 "cells": [
  {
   "cell_type": "markdown",
   "id": "24ce3470-e5d0-4189-8556-db3fee6c4e77",
   "metadata": {},
   "source": [
    "Find the item type that appears in both compartments of each rucksack. What is the sum of the priorities of those item types?"
   ]
  },
  {
   "cell_type": "code",
   "execution_count": 1,
   "id": "f7511ba0-305c-4a8c-bc05-51a02b276ffa",
   "metadata": {},
   "outputs": [
    {
     "data": {
      "text/plain": [
       "300"
      ]
     },
     "execution_count": 1,
     "metadata": {},
     "output_type": "execute_result"
    }
   ],
   "source": [
    "lines = open('../data/03.txt').readlines()\n",
    "len(lines)"
   ]
  },
  {
   "cell_type": "code",
   "execution_count": 2,
   "id": "93eeffb4-38a7-4430-aa4c-504120d0fe6e",
   "metadata": {},
   "outputs": [
    {
     "data": {
      "text/plain": [
       "['ZTmtZvZLTFNLMQMNRvZncdcHwcScJvcdHnVfwV\\n',\n",
       " 'zqjqrzqjCqrjtqWhqChqrznhcfdfVnVSVgcffcgJcSgd\\n',\n",
       " 'rtDGpzjjqjlrGsWqBWFRsbTPFQMTbRNRFmbs\\n']"
      ]
     },
     "execution_count": 2,
     "metadata": {},
     "output_type": "execute_result"
    }
   ],
   "source": [
    "lines[:3]"
   ]
  },
  {
   "cell_type": "code",
   "execution_count": 3,
   "id": "250bce31-b7e4-499b-9f33-952714fb348e",
   "metadata": {},
   "outputs": [
    {
     "data": {
      "text/plain": [
       "([(' ', 0), ('a', 1), ('b', 2), ('c', 3), ('d', 4)],\n",
       " [('V', 48), ('W', 49), ('X', 50), ('Y', 51), ('Z', 52)])"
      ]
     },
     "execution_count": 3,
     "metadata": {},
     "output_type": "execute_result"
    }
   ],
   "source": [
    "letter_values = {letter: idx for idx, letter in enumerate(' abcdefghijklmnopqrstuvwxyzABCDEFGHIJKLMNOPQRSTUVWXYZ')}\n",
    "list(letter_values.items())[:5], list(letter_values.items())[-5:]"
   ]
  },
  {
   "cell_type": "code",
   "execution_count": 4,
   "id": "d62e5544-3704-4c64-8c33-70339b5046e8",
   "metadata": {},
   "outputs": [
    {
     "data": {
      "text/plain": [
       "300"
      ]
     },
     "execution_count": 4,
     "metadata": {},
     "output_type": "execute_result"
    }
   ],
   "source": [
    "points = []\n",
    "\n",
    "for line in lines:\n",
    "    line = line.strip()\n",
    "    split_point = int(len(line) / 2)\n",
    "    a, b = line[:split_point], line[split_point:]\n",
    "    \n",
    "    shared_items = set([item for item in a if item in b])\n",
    "    total = 0\n",
    "    for item in shared_items:\n",
    "        total += letter_values[item]\n",
    "    points.append(total)\n",
    "    \n",
    "len(points)"
   ]
  },
  {
   "cell_type": "code",
   "execution_count": 5,
   "id": "d132264c-61c3-4275-b94f-fcce8946a8a9",
   "metadata": {},
   "outputs": [
    {
     "data": {
      "text/plain": [
       "[22, 8, 19, 48, 40]"
      ]
     },
     "execution_count": 5,
     "metadata": {},
     "output_type": "execute_result"
    }
   ],
   "source": [
    "points[:5]"
   ]
  },
  {
   "cell_type": "code",
   "execution_count": 6,
   "id": "d589f2c4-9383-4f87-98ee-001c164e7fad",
   "metadata": {},
   "outputs": [
    {
     "data": {
      "text/plain": [
       "7716"
      ]
     },
     "execution_count": 6,
     "metadata": {},
     "output_type": "execute_result"
    }
   ],
   "source": [
    "sum(points)"
   ]
  },
  {
   "cell_type": "code",
   "execution_count": null,
   "id": "50db1568-d8fa-4fe3-adab-c811cc81c0cb",
   "metadata": {},
   "outputs": [],
   "source": []
  }
 ],
 "metadata": {
  "kernelspec": {
   "display_name": "Python 3 (ipykernel)",
   "language": "python",
   "name": "python3"
  },
  "language_info": {
   "codemirror_mode": {
    "name": "ipython",
    "version": 3
   },
   "file_extension": ".py",
   "mimetype": "text/x-python",
   "name": "python",
   "nbconvert_exporter": "python",
   "pygments_lexer": "ipython3",
   "version": "3.10.2"
  }
 },
 "nbformat": 4,
 "nbformat_minor": 5
}
