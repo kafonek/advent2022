{
 "cells": [
  {
   "cell_type": "markdown",
   "id": "2ec1e2fa-d912-4c3e-829e-8a0bc015263d",
   "metadata": {},
   "source": [
    "Find the Elf carrying the most Calories. How many total Calories is that Elf carrying?"
   ]
  },
  {
   "cell_type": "code",
   "execution_count": 1,
   "id": "88863297-f84b-4840-92c0-d988fed7924f",
   "metadata": {},
   "outputs": [
    {
     "data": {
      "text/plain": [
       "2253"
      ]
     },
     "execution_count": 1,
     "metadata": {},
     "output_type": "execute_result"
    }
   ],
   "source": [
    "lines = open('../data/01.txt').readlines()\n",
    "len(lines)"
   ]
  },
  {
   "cell_type": "code",
   "execution_count": 2,
   "id": "6914bd99-fdc7-413b-8282-1145bb8d77b1",
   "metadata": {},
   "outputs": [
    {
     "data": {
      "text/plain": [
       "['6471\\n', '1935\\n', '1793\\n']"
      ]
     },
     "execution_count": 2,
     "metadata": {},
     "output_type": "execute_result"
    }
   ],
   "source": [
    "lines[:3]"
   ]
  },
  {
   "cell_type": "code",
   "execution_count": 3,
   "id": "19c531e1-0069-49a8-a08c-bef7040abdab",
   "metadata": {},
   "outputs": [
    {
     "data": {
      "text/plain": [
       "254"
      ]
     },
     "execution_count": 3,
     "metadata": {},
     "output_type": "execute_result"
    }
   ],
   "source": [
    "counts = []\n",
    "count = 0\n",
    "\n",
    "# Group lines into sums of integers delimited by empty lines\n",
    "for line in lines:\n",
    "    line = line.strip()\n",
    "    # if the line is empty, append current total to counts list \n",
    "    # and reset count to 0\n",
    "    if not line:\n",
    "        counts.append(count)\n",
    "        count = 0\n",
    "    else:\n",
    "        # if line is not empty, bump count by line value\n",
    "        count += int(line)\n",
    "\n",
    "len(counts)"
   ]
  },
  {
   "cell_type": "code",
   "execution_count": 4,
   "id": "bc77a072-7174-41c9-baef-d07ba943c6de",
   "metadata": {},
   "outputs": [
    {
     "data": {
      "text/plain": [
       "70698"
      ]
     },
     "execution_count": 4,
     "metadata": {},
     "output_type": "execute_result"
    }
   ],
   "source": [
    "max(counts)"
   ]
  },
  {
   "cell_type": "code",
   "execution_count": null,
   "id": "09921287-5782-4bed-b6d0-997fc2bb46a9",
   "metadata": {},
   "outputs": [],
   "source": []
  }
 ],
 "metadata": {
  "kernelspec": {
   "display_name": "Python 3 (ipykernel)",
   "language": "python",
   "name": "python3"
  },
  "language_info": {
   "codemirror_mode": {
    "name": "ipython",
    "version": 3
   },
   "file_extension": ".py",
   "mimetype": "text/x-python",
   "name": "python",
   "nbconvert_exporter": "python",
   "pygments_lexer": "ipython3",
   "version": "3.10.2"
  }
 },
 "nbformat": 4,
 "nbformat_minor": 5
}
