{
 "cells": [
  {
   "cell_type": "markdown",
   "id": "3c1ba4a7-b45b-4b17-8c12-d33dede79929",
   "metadata": {},
   "source": [
    "Following the Elf's instructions for the second column, what would your total score be if everything goes exactly according to your strategy guide?"
   ]
  },
  {
   "cell_type": "code",
   "execution_count": 2,
   "id": "1acb18c7-01af-4846-9c7a-fb8324f2f7dd",
   "metadata": {},
   "outputs": [],
   "source": [
    "#[derive(Debug, Clone)]\n",
    "pub struct RockPaperScissors {\n",
    "    input_value: String, // A, B, C, X, Y, Z\n",
    "    value: String, // 'rock', 'paper', 'scissors'\n",
    "    points: i32 // 1 for rock, 2 for paper, 3 for scissors\n",
    "}\n",
    "\n",
    "impl RockPaperScissors {\n",
    "    pub fn new(input_value: &str) -> Self {\n",
    "        let value: &str = match input_value {\n",
    "            \"A\" | \"X\" => \"rock\",\n",
    "            \"B\" | \"Y\" => \"paper\",\n",
    "            \"C\" | \"Z\" => \"scissors\",\n",
    "            _ => \"unknown\"\n",
    "        };\n",
    "        let points: i32 = match value {\n",
    "            \"rock\" => 1,\n",
    "            \"paper\" => 2,\n",
    "            \"scissors\" => 3,\n",
    "            _ => 0\n",
    "        };\n",
    "        RockPaperScissors { \n",
    "            input_value: input_value.to_string(), \n",
    "            value: value.to_string(), \n",
    "            points: points\n",
    "        }\n",
    "    }\n",
    "    \n",
    "    pub fn compare(&self, other: RockPaperScissors) -> i32 {\n",
    "        // win = 6, draw = 3, lose = 0\n",
    "        let points: i32 = match (self.value.as_str(), other.value.as_str()) {\n",
    "            (\"rock\", \"scissors\") | (\"paper\", \"rock\") | (\"scissors\", \"paper\") => 6,\n",
    "            (\"rock\", \"rock\") | (\"paper\", \"paper\") | (\"scissors\", \"scissors\") => 3,\n",
    "            _ => 0\n",
    "        };\n",
    "        points\n",
    "    }\n",
    "    \n",
    "    pub fn should_play(&self, other: RockPaperScissors) -> RockPaperScissors {\n",
    "        // applicable to part 2, determine what we should play from input_value and other value\n",
    "        let play: RockPaperScissors = match (self.input_value.as_str(), other.value.as_str()) {\n",
    "            // X = lose, Y = Draw, Z = Win\n",
    "            // return Rock (X) if we should lose to paper, draw to rock, win to scissors\n",
    "            (\"X\", \"paper\") | (\"Y\", \"rock\") | (\"Z\", \"scissors\") => RockPaperScissors::new(\"X\"),\n",
    "            // return Paper (Y) if we should lose to scissors, draw to paper, win to rock\n",
    "            (\"X\", \"scissors\") | (\"Y\", \"paper\") | (\"Z\", \"rock\") => RockPaperScissors::new(\"Y\"),\n",
    "            _ => RockPaperScissors::new(\"Z\"),\n",
    "        };\n",
    "        play\n",
    "    }\n",
    "}"
   ]
  },
  {
   "cell_type": "code",
   "execution_count": 3,
   "id": "23bf479d-f59c-4598-b21e-a953e9a4639d",
   "metadata": {},
   "outputs": [
    {
     "data": {
      "text/plain": [
       "[9, 7, 7, 4, 9]"
      ]
     },
     "execution_count": 3,
     "metadata": {},
     "output_type": "execute_result"
    }
   ],
   "source": [
    "use std::fs::File;\n",
    "use std::io::{BufRead, BufReader};\n",
    "\n",
    "let mut scores: Vec<i32> = Vec::new();\n",
    "let reader = BufReader::new(File::open(\"../data/02.txt\")?);\n",
    "let lines = reader.lines();\n",
    "\n",
    "for line in lines {\n",
    "    let line = line.unwrap();\n",
    "    // Vector of two RPS objects (their throw, our throw)\n",
    "    let throws: Vec<RockPaperScissors> = line.split_whitespace().map(RockPaperScissors::new).collect();\n",
    "    let our_throw = throws[1].clone();\n",
    "    let their_throw = throws[0].clone();\n",
    "    let should_play = our_throw.should_play(their_throw);\n",
    "    // The next line feels intuitivie but gets Error: use of moved value: `their_throw`\n",
    "    // Need to better understand borrowing and references...\n",
    "    //let points: i32 = should_play.compare(their_throw) + should_play.points;\n",
    "    let points: i32 = should_play.compare(throws[0].clone()) + should_play.points;\n",
    "    scores.push(points);\n",
    "}\n",
    "\n",
    "scores[..5]"
   ]
  },
  {
   "cell_type": "code",
   "execution_count": 4,
   "id": "186efa45-e7e1-40e0-9b9f-57a8b16d9dce",
   "metadata": {},
   "outputs": [
    {
     "data": {
      "text/plain": [
       "12091"
      ]
     },
     "execution_count": 4,
     "metadata": {},
     "output_type": "execute_result"
    }
   ],
   "source": [
    "let sum: i32 = scores.iter().sum();\n",
    "sum"
   ]
  },
  {
   "cell_type": "code",
   "execution_count": null,
   "id": "1c9768b8-7aa5-4613-ba9e-f888c55048f1",
   "metadata": {},
   "outputs": [],
   "source": []
  }
 ],
 "metadata": {
  "kernelspec": {
   "display_name": "Rust",
   "language": "rust",
   "name": "rust"
  },
  "language_info": {
   "codemirror_mode": "rust",
   "file_extension": ".rs",
   "mimetype": "text/rust",
   "name": "Rust",
   "pygment_lexer": "rust",
   "version": ""
  }
 },
 "nbformat": 4,
 "nbformat_minor": 5
}
