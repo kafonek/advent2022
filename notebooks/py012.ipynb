{
 "cells": [
  {
   "cell_type": "markdown",
   "id": "80fa01d3-bb54-4a60-a6f8-b73608368a0b",
   "metadata": {},
   "source": [
    "Find the top three Elves carrying the most Calories. How many Calories are those Elves carrying in total?"
   ]
  },
  {
   "cell_type": "code",
   "execution_count": 1,
   "id": "b8a25bc9-7d5f-4bc1-98a5-a2f17e8e1ef9",
   "metadata": {},
   "outputs": [
    {
     "data": {
      "text/plain": [
       "2253"
      ]
     },
     "execution_count": 1,
     "metadata": {},
     "output_type": "execute_result"
    }
   ],
   "source": [
    "lines = open('../data/01.txt').readlines()\n",
    "len(lines)"
   ]
  },
  {
   "cell_type": "code",
   "execution_count": 2,
   "id": "2c9c438a-0c6d-4822-ac70-c67648ad1a79",
   "metadata": {},
   "outputs": [
    {
     "data": {
      "text/plain": [
       "['6471\\n', '1935\\n', '1793\\n']"
      ]
     },
     "execution_count": 2,
     "metadata": {},
     "output_type": "execute_result"
    }
   ],
   "source": [
    "lines[:3]"
   ]
  },
  {
   "cell_type": "code",
   "execution_count": 3,
   "id": "f469f60e-7e62-49b4-9a75-e9731ce19582",
   "metadata": {},
   "outputs": [
    {
     "data": {
      "text/plain": [
       "254"
      ]
     },
     "execution_count": 3,
     "metadata": {},
     "output_type": "execute_result"
    }
   ],
   "source": [
    "counts = []\n",
    "count = 0\n",
    "\n",
    "# Group lines into sums of integers delimited by empty lines\n",
    "for line in lines:\n",
    "    line = line.strip()\n",
    "    # if the line is empty, append current total to counts list \n",
    "    # and reset count to 0\n",
    "    if not line:\n",
    "        counts.append(count)\n",
    "        count = 0\n",
    "    else:\n",
    "        # if line is not empty, bump count by line value\n",
    "        count += int(line)\n",
    "\n",
    "len(counts)"
   ]
  },
  {
   "cell_type": "code",
   "execution_count": 4,
   "id": "e11ee4a9-fb1b-49ea-a260-00efedf84b64",
   "metadata": {},
   "outputs": [
    {
     "data": {
      "text/plain": [
       "206643"
      ]
     },
     "execution_count": 4,
     "metadata": {},
     "output_type": "execute_result"
    }
   ],
   "source": [
    "sum(sorted(counts, reverse=True)[:3])"
   ]
  },
  {
   "cell_type": "code",
   "execution_count": null,
   "id": "00138e0b-606c-432a-ae3f-1632cf24d88c",
   "metadata": {},
   "outputs": [],
   "source": []
  }
 ],
 "metadata": {
  "kernelspec": {
   "display_name": "Python 3 (ipykernel)",
   "language": "python",
   "name": "python3"
  },
  "language_info": {
   "codemirror_mode": {
    "name": "ipython",
    "version": 3
   },
   "file_extension": ".py",
   "mimetype": "text/x-python",
   "name": "python",
   "nbconvert_exporter": "python",
   "pygments_lexer": "ipython3",
   "version": "3.10.2"
  }
 },
 "nbformat": 4,
 "nbformat_minor": 5
}
