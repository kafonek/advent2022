{
 "cells": [
  {
   "cell_type": "markdown",
   "id": "4f6af95c-ed71-4f49-a9fe-ff8205e61279",
   "metadata": {},
   "source": [
    "The Elves begin to set up camp on the beach. To decide whose tent gets to be closest to the snack storage, a giant Rock Paper Scissors tournament is already in progress.\n",
    "\n",
    "Rock Paper Scissors is a game between two players. Each game contains many rounds; in each round, the players each simultaneously choose one of Rock, Paper, or Scissors using a hand shape. Then, a winner for that round is selected: Rock defeats Scissors, Scissors defeats Paper, and Paper defeats Rock. If both players choose the same shape, the round instead ends in a draw.\n",
    "\n",
    "Appreciative of your help yesterday, one Elf gives you an encrypted strategy guide (your puzzle input) that they say will be sure to help you win. \"The first column is what your opponent is going to play: A for Rock, B for Paper, and C for Scissors. The second column--\" Suddenly, the Elf is called away to help with someone's tent.\n",
    "\n",
    "The second column, you reason, must be what you should play in response: X for Rock, Y for Paper, and Z for Scissors. Winning every time would be suspicious, so the responses must have been carefully chosen.\n",
    "\n",
    "The winner of the whole tournament is the player with the highest score. Your total score is the sum of your scores for each round. The score for a single round is the score for the shape you selected (1 for Rock, 2 for Paper, and 3 for Scissors) plus the score for the outcome of the round (0 if you lost, 3 if the round was a draw, and 6 if you won).\n",
    "\n",
    "Since you can't be sure if the Elf is trying to help you or trick you, you should calculate the score you would get if you were to follow the strategy guide.\n",
    "\n",
    "For example, suppose you were given the following strategy guide:\n",
    "\n",
    "```\n",
    "A Y\n",
    "B X\n",
    "C Z\n",
    "```\n",
    "\n",
    "# Part 1\n",
    "\n",
    "This strategy guide predicts and recommends the following:\n",
    "\n",
    "- In the first round, your opponent will choose Rock (A), and you should choose Paper (Y). This ends in a win for you with a score of 8 (2 because you chose Paper + 6 because you won).\n",
    "- In the second round, your opponent will choose Paper (B), and you should choose Rock (X). This ends in a loss for you with a score of 1 (1 + 0).\n",
    "- The third round is a draw with both players choosing Scissors, giving you a score of 3 + 3 = 6.\n",
    "\n",
    "In this example, if you were to follow the strategy guide, you would get a total score of 15 (8 + 1 + 6).\n",
    "\n",
    "# Part 2\n",
    "\n",
    "The Elf finishes helping with the tent and sneaks back over to you. \"Anyway, the second column says how the round needs to end: X means you need to lose, Y means you need to end the round in a draw, and Z means you need to win. Good luck!\"\n",
    "\n",
    "The total score is still calculated in the same way, but now you need to figure out what shape to choose so the round ends as indicated. The example above now goes like this:\n",
    "\n",
    "- In the first round, your opponent will choose Rock (A), and you need the round to end in a draw (Y), so you also choose Rock. This gives you a score of 1 + 3 = 4.\n",
    "- In the second round, your opponent will choose Paper (B), and you choose Rock so you lose (X) with a score of 1 + 0 = 1.\n",
    "- In the third round, you will defeat your opponent's Scissors with Rock for a score of 1 + 6 = 7.\n",
    "\n",
    "Now that you're correctly decrypting the ultra top secret strategy guide, you would get a total score of 12."
   ]
  },
  {
   "cell_type": "code",
   "execution_count": 1,
   "id": "ec05aa49-35f2-4924-a8fa-d49b23c69a89",
   "metadata": {},
   "outputs": [
    {
     "data": {
      "application/javascript": [
       "\n",
       "            setTimeout(function() {\n",
       "                var nbb_cell_id = 1;\n",
       "                var nbb_unformatted_code = \"%load_ext nb_black\";\n",
       "                var nbb_formatted_code = \"%load_ext nb_black\";\n",
       "                var nbb_cells = Jupyter.notebook.get_cells();\n",
       "                for (var i = 0; i < nbb_cells.length; ++i) {\n",
       "                    if (nbb_cells[i].input_prompt_number == nbb_cell_id) {\n",
       "                        if (nbb_cells[i].get_text() == nbb_unformatted_code) {\n",
       "                             nbb_cells[i].set_text(nbb_formatted_code);\n",
       "                        }\n",
       "                        break;\n",
       "                    }\n",
       "                }\n",
       "            }, 500);\n",
       "            "
      ],
      "text/plain": [
       "<IPython.core.display.Javascript object>"
      ]
     },
     "metadata": {},
     "output_type": "display_data"
    }
   ],
   "source": [
    "%load_ext nb_black"
   ]
  },
  {
   "cell_type": "code",
   "execution_count": 2,
   "id": "06538c27-8e64-43d3-bc51-3c076d93eeba",
   "metadata": {},
   "outputs": [
    {
     "data": {
      "application/javascript": [
       "\n",
       "            setTimeout(function() {\n",
       "                var nbb_cell_id = 2;\n",
       "                var nbb_unformatted_code = \"class RockPaperScissors:\\n    def __init__(self, input_value: str):\\n        self.input_value = input_value\\n        if input_value in ['A', 'X']:\\n            self.value = 'rock'\\n            self.points = 1\\n        elif input_value in ['B', 'Y']:\\n            self.value = 'paper'\\n            self.points = 2\\n        elif input_value in ['C', 'Z']:\\n            self.value = 'scissors'\\n            self.points = 3\\n    \\n    def compare(self, other: 'RockPaperScissors'):\\n        # draw on same value\\n        if self.value == other.value:\\n            return 3\\n        # win conditions\\n        if self.value == 'rock' and other.value == 'scissors':\\n            return 6\\n        if self.value == 'scissors' and other.value == 'paper':\\n            return 6\\n        if self.value == 'paper' and other.value == 'rock':\\n            return 6\\n        # if past draw and win conditions, return 0 as lose condition\\n        return 0\\n    \\n    def should_play(self, other: 'RockPaperScissors'):\\n        # applicable to part 2 problem\\n        if self.input_value == 'X':\\n            # return value that loses\\n            if other.value == 'rock':\\n                return RockPaperScissors('Z') # scissors\\n            elif other.value == 'paper':\\n                return RockPaperScissors('X') # rock\\n            elif other.value == 'scissors':\\n                return RockPaperScissors('Y') # paper\\n        elif self.input_value == 'Y':\\n            # return value that ties\\n            if other.value == 'rock':\\n                return RockPaperScissors('X') # rock\\n            elif other.value == 'paper':\\n                return RockPaperScissors('Y') # paper\\n            elif other.value == 'scissors':\\n                return RockPaperScissors('Z') # scissors\\n        elif self.input_value == 'Z':\\n            # return value that wins\\n            if other.value == 'rock':\\n                return RockPaperScissors('Y') # paper\\n            elif other.value == 'paper':\\n                return RockPaperScissors('Z') # scissors\\n            elif other.value == 'scissors':\\n                return RockPaperScissors('X') # rock\\n            \\n        \\n    \\n    def __repr__(self):\\n        return f\\\"<RPS {self.input_value} ({self.value} {self.points})\\\" \";\n",
       "                var nbb_formatted_code = \"class RockPaperScissors:\\n    def __init__(self, input_value: str):\\n        self.input_value = input_value\\n        if input_value in [\\\"A\\\", \\\"X\\\"]:\\n            self.value = \\\"rock\\\"\\n            self.points = 1\\n        elif input_value in [\\\"B\\\", \\\"Y\\\"]:\\n            self.value = \\\"paper\\\"\\n            self.points = 2\\n        elif input_value in [\\\"C\\\", \\\"Z\\\"]:\\n            self.value = \\\"scissors\\\"\\n            self.points = 3\\n\\n    def compare(self, other: \\\"RockPaperScissors\\\"):\\n        # draw on same value\\n        if self.value == other.value:\\n            return 3\\n        # win conditions\\n        if self.value == \\\"rock\\\" and other.value == \\\"scissors\\\":\\n            return 6\\n        if self.value == \\\"scissors\\\" and other.value == \\\"paper\\\":\\n            return 6\\n        if self.value == \\\"paper\\\" and other.value == \\\"rock\\\":\\n            return 6\\n        # if past draw and win conditions, return 0 as lose condition\\n        return 0\\n\\n    def should_play(self, other: \\\"RockPaperScissors\\\"):\\n        # applicable to part 2 problem\\n        if self.input_value == \\\"X\\\":\\n            # return value that loses\\n            if other.value == \\\"rock\\\":\\n                return RockPaperScissors(\\\"Z\\\")  # scissors\\n            elif other.value == \\\"paper\\\":\\n                return RockPaperScissors(\\\"X\\\")  # rock\\n            elif other.value == \\\"scissors\\\":\\n                return RockPaperScissors(\\\"Y\\\")  # paper\\n        elif self.input_value == \\\"Y\\\":\\n            # return value that ties\\n            if other.value == \\\"rock\\\":\\n                return RockPaperScissors(\\\"X\\\")  # rock\\n            elif other.value == \\\"paper\\\":\\n                return RockPaperScissors(\\\"Y\\\")  # paper\\n            elif other.value == \\\"scissors\\\":\\n                return RockPaperScissors(\\\"Z\\\")  # scissors\\n        elif self.input_value == \\\"Z\\\":\\n            # return value that wins\\n            if other.value == \\\"rock\\\":\\n                return RockPaperScissors(\\\"Y\\\")  # paper\\n            elif other.value == \\\"paper\\\":\\n                return RockPaperScissors(\\\"Z\\\")  # scissors\\n            elif other.value == \\\"scissors\\\":\\n                return RockPaperScissors(\\\"X\\\")  # rock\\n\\n    def __repr__(self):\\n        return f\\\"<RPS {self.input_value} ({self.value} {self.points})\\\"\";\n",
       "                var nbb_cells = Jupyter.notebook.get_cells();\n",
       "                for (var i = 0; i < nbb_cells.length; ++i) {\n",
       "                    if (nbb_cells[i].input_prompt_number == nbb_cell_id) {\n",
       "                        if (nbb_cells[i].get_text() == nbb_unformatted_code) {\n",
       "                             nbb_cells[i].set_text(nbb_formatted_code);\n",
       "                        }\n",
       "                        break;\n",
       "                    }\n",
       "                }\n",
       "            }, 500);\n",
       "            "
      ],
      "text/plain": [
       "<IPython.core.display.Javascript object>"
      ]
     },
     "metadata": {},
     "output_type": "display_data"
    }
   ],
   "source": [
    "class RockPaperScissors:\n",
    "    def __init__(self, input_value: str):\n",
    "        self.input_value = input_value\n",
    "        if input_value in ['A', 'X']:\n",
    "            self.value = 'rock'\n",
    "            self.points = 1\n",
    "        elif input_value in ['B', 'Y']:\n",
    "            self.value = 'paper'\n",
    "            self.points = 2\n",
    "        elif input_value in ['C', 'Z']:\n",
    "            self.value = 'scissors'\n",
    "            self.points = 3\n",
    "    \n",
    "    def compare(self, other: 'RockPaperScissors'):\n",
    "        # draw on same value\n",
    "        if self.value == other.value:\n",
    "            return 3\n",
    "        # win conditions\n",
    "        if self.value == 'rock' and other.value == 'scissors':\n",
    "            return 6\n",
    "        if self.value == 'scissors' and other.value == 'paper':\n",
    "            return 6\n",
    "        if self.value == 'paper' and other.value == 'rock':\n",
    "            return 6\n",
    "        # if past draw and win conditions, return 0 as lose condition\n",
    "        return 0\n",
    "    \n",
    "    def should_play(self, other: 'RockPaperScissors'):\n",
    "        # applicable to part 2 problem\n",
    "        if self.input_value == 'X':\n",
    "            # return value that loses\n",
    "            if other.value == 'rock':\n",
    "                return RockPaperScissors('Z') # scissors\n",
    "            elif other.value == 'paper':\n",
    "                return RockPaperScissors('X') # rock\n",
    "            elif other.value == 'scissors':\n",
    "                return RockPaperScissors('Y') # paper\n",
    "        elif self.input_value == 'Y':\n",
    "            # return value that ties\n",
    "            if other.value == 'rock':\n",
    "                return RockPaperScissors('X') # rock\n",
    "            elif other.value == 'paper':\n",
    "                return RockPaperScissors('Y') # paper\n",
    "            elif other.value == 'scissors':\n",
    "                return RockPaperScissors('Z') # scissors\n",
    "        elif self.input_value == 'Z':\n",
    "            # return value that wins\n",
    "            if other.value == 'rock':\n",
    "                return RockPaperScissors('Y') # paper\n",
    "            elif other.value == 'paper':\n",
    "                return RockPaperScissors('Z') # scissors\n",
    "            elif other.value == 'scissors':\n",
    "                return RockPaperScissors('X') # rock\n",
    "            \n",
    "        \n",
    "    \n",
    "    def __repr__(self):\n",
    "        return f\"<RPS {self.input_value} ({self.value} {self.points})\" "
   ]
  },
  {
   "cell_type": "code",
   "execution_count": 3,
   "id": "927fb716-5490-4251-8ea4-6a24cebc08f9",
   "metadata": {},
   "outputs": [
    {
     "data": {
      "text/plain": [
       "<RPS A (rock 1)"
      ]
     },
     "execution_count": 3,
     "metadata": {},
     "output_type": "execute_result"
    },
    {
     "data": {
      "application/javascript": [
       "\n",
       "            setTimeout(function() {\n",
       "                var nbb_cell_id = 3;\n",
       "                var nbb_unformatted_code = \"RockPaperScissors('A')\";\n",
       "                var nbb_formatted_code = \"RockPaperScissors(\\\"A\\\")\";\n",
       "                var nbb_cells = Jupyter.notebook.get_cells();\n",
       "                for (var i = 0; i < nbb_cells.length; ++i) {\n",
       "                    if (nbb_cells[i].input_prompt_number == nbb_cell_id) {\n",
       "                        if (nbb_cells[i].get_text() == nbb_unformatted_code) {\n",
       "                             nbb_cells[i].set_text(nbb_formatted_code);\n",
       "                        }\n",
       "                        break;\n",
       "                    }\n",
       "                }\n",
       "            }, 500);\n",
       "            "
      ],
      "text/plain": [
       "<IPython.core.display.Javascript object>"
      ]
     },
     "metadata": {},
     "output_type": "display_data"
    }
   ],
   "source": [
    "RockPaperScissors('A')"
   ]
  },
  {
   "cell_type": "code",
   "execution_count": 4,
   "id": "72f11e67-6a79-42e4-a333-72afa92f5a1a",
   "metadata": {},
   "outputs": [
    {
     "data": {
      "text/plain": [
       "3"
      ]
     },
     "execution_count": 4,
     "metadata": {},
     "output_type": "execute_result"
    },
    {
     "data": {
      "application/javascript": [
       "\n",
       "            setTimeout(function() {\n",
       "                var nbb_cell_id = 4;\n",
       "                var nbb_unformatted_code = \"RockPaperScissors('A').compare(RockPaperScissors('X'))\";\n",
       "                var nbb_formatted_code = \"RockPaperScissors(\\\"A\\\").compare(RockPaperScissors(\\\"X\\\"))\";\n",
       "                var nbb_cells = Jupyter.notebook.get_cells();\n",
       "                for (var i = 0; i < nbb_cells.length; ++i) {\n",
       "                    if (nbb_cells[i].input_prompt_number == nbb_cell_id) {\n",
       "                        if (nbb_cells[i].get_text() == nbb_unformatted_code) {\n",
       "                             nbb_cells[i].set_text(nbb_formatted_code);\n",
       "                        }\n",
       "                        break;\n",
       "                    }\n",
       "                }\n",
       "            }, 500);\n",
       "            "
      ],
      "text/plain": [
       "<IPython.core.display.Javascript object>"
      ]
     },
     "metadata": {},
     "output_type": "display_data"
    }
   ],
   "source": [
    "RockPaperScissors('A').compare(RockPaperScissors('X'))"
   ]
  },
  {
   "cell_type": "code",
   "execution_count": 5,
   "id": "390b4d2f-2b7d-4fc5-bc57-b118a7e0f4a5",
   "metadata": {},
   "outputs": [
    {
     "data": {
      "text/plain": [
       "0"
      ]
     },
     "execution_count": 5,
     "metadata": {},
     "output_type": "execute_result"
    },
    {
     "data": {
      "application/javascript": [
       "\n",
       "            setTimeout(function() {\n",
       "                var nbb_cell_id = 5;\n",
       "                var nbb_unformatted_code = \"RockPaperScissors('A').compare(RockPaperScissors('Y'))\";\n",
       "                var nbb_formatted_code = \"RockPaperScissors(\\\"A\\\").compare(RockPaperScissors(\\\"Y\\\"))\";\n",
       "                var nbb_cells = Jupyter.notebook.get_cells();\n",
       "                for (var i = 0; i < nbb_cells.length; ++i) {\n",
       "                    if (nbb_cells[i].input_prompt_number == nbb_cell_id) {\n",
       "                        if (nbb_cells[i].get_text() == nbb_unformatted_code) {\n",
       "                             nbb_cells[i].set_text(nbb_formatted_code);\n",
       "                        }\n",
       "                        break;\n",
       "                    }\n",
       "                }\n",
       "            }, 500);\n",
       "            "
      ],
      "text/plain": [
       "<IPython.core.display.Javascript object>"
      ]
     },
     "metadata": {},
     "output_type": "display_data"
    }
   ],
   "source": [
    "RockPaperScissors('A').compare(RockPaperScissors('Y'))"
   ]
  },
  {
   "cell_type": "code",
   "execution_count": 6,
   "id": "b4573b2d-6b54-438b-82e9-95e4f621291a",
   "metadata": {},
   "outputs": [
    {
     "data": {
      "text/plain": [
       "6"
      ]
     },
     "execution_count": 6,
     "metadata": {},
     "output_type": "execute_result"
    },
    {
     "data": {
      "application/javascript": [
       "\n",
       "            setTimeout(function() {\n",
       "                var nbb_cell_id = 6;\n",
       "                var nbb_unformatted_code = \"RockPaperScissors('A').compare(RockPaperScissors('Z'))\";\n",
       "                var nbb_formatted_code = \"RockPaperScissors(\\\"A\\\").compare(RockPaperScissors(\\\"Z\\\"))\";\n",
       "                var nbb_cells = Jupyter.notebook.get_cells();\n",
       "                for (var i = 0; i < nbb_cells.length; ++i) {\n",
       "                    if (nbb_cells[i].input_prompt_number == nbb_cell_id) {\n",
       "                        if (nbb_cells[i].get_text() == nbb_unformatted_code) {\n",
       "                             nbb_cells[i].set_text(nbb_formatted_code);\n",
       "                        }\n",
       "                        break;\n",
       "                    }\n",
       "                }\n",
       "            }, 500);\n",
       "            "
      ],
      "text/plain": [
       "<IPython.core.display.Javascript object>"
      ]
     },
     "metadata": {},
     "output_type": "display_data"
    }
   ],
   "source": [
    "RockPaperScissors('A').compare(RockPaperScissors('Z'))"
   ]
  },
  {
   "cell_type": "code",
   "execution_count": 7,
   "id": "ce548c7d-2962-46f8-a427-8d2fa4f1c7df",
   "metadata": {},
   "outputs": [
    {
     "data": {
      "application/javascript": [
       "\n",
       "            setTimeout(function() {\n",
       "                var nbb_cell_id = 7;\n",
       "                var nbb_unformatted_code = \"import io\\n\\ntext = io.StringIO(\\\"\\\"\\\"\\nA Y\\nB X\\nC Z\\n\\\"\\\"\\\".strip())\";\n",
       "                var nbb_formatted_code = \"import io\\n\\ntext = io.StringIO(\\n    \\\"\\\"\\\"\\nA Y\\nB X\\nC Z\\n\\\"\\\"\\\".strip()\\n)\";\n",
       "                var nbb_cells = Jupyter.notebook.get_cells();\n",
       "                for (var i = 0; i < nbb_cells.length; ++i) {\n",
       "                    if (nbb_cells[i].input_prompt_number == nbb_cell_id) {\n",
       "                        if (nbb_cells[i].get_text() == nbb_unformatted_code) {\n",
       "                             nbb_cells[i].set_text(nbb_formatted_code);\n",
       "                        }\n",
       "                        break;\n",
       "                    }\n",
       "                }\n",
       "            }, 500);\n",
       "            "
      ],
      "text/plain": [
       "<IPython.core.display.Javascript object>"
      ]
     },
     "metadata": {},
     "output_type": "display_data"
    }
   ],
   "source": [
    "import io\n",
    "\n",
    "text = io.StringIO(\"\"\"\n",
    "A Y\n",
    "B X\n",
    "C Z\n",
    "\"\"\".strip())"
   ]
  },
  {
   "cell_type": "code",
   "execution_count": 8,
   "id": "427c93a3-7d39-4757-9915-80258af02c48",
   "metadata": {},
   "outputs": [
    {
     "data": {
      "text/plain": [
       "['A Y\\n', 'B X\\n', 'C Z']"
      ]
     },
     "execution_count": 8,
     "metadata": {},
     "output_type": "execute_result"
    },
    {
     "data": {
      "application/javascript": [
       "\n",
       "            setTimeout(function() {\n",
       "                var nbb_cell_id = 8;\n",
       "                var nbb_unformatted_code = \"lines = text.readlines()\\nlines\";\n",
       "                var nbb_formatted_code = \"lines = text.readlines()\\nlines\";\n",
       "                var nbb_cells = Jupyter.notebook.get_cells();\n",
       "                for (var i = 0; i < nbb_cells.length; ++i) {\n",
       "                    if (nbb_cells[i].input_prompt_number == nbb_cell_id) {\n",
       "                        if (nbb_cells[i].get_text() == nbb_unformatted_code) {\n",
       "                             nbb_cells[i].set_text(nbb_formatted_code);\n",
       "                        }\n",
       "                        break;\n",
       "                    }\n",
       "                }\n",
       "            }, 500);\n",
       "            "
      ],
      "text/plain": [
       "<IPython.core.display.Javascript object>"
      ]
     },
     "metadata": {},
     "output_type": "display_data"
    }
   ],
   "source": [
    "lines = text.readlines()\n",
    "lines"
   ]
  },
  {
   "cell_type": "code",
   "execution_count": 9,
   "id": "dd09e086-61c6-430d-a513-7af61a755764",
   "metadata": {},
   "outputs": [
    {
     "data": {
      "text/plain": [
       "[8, 1, 6]"
      ]
     },
     "execution_count": 9,
     "metadata": {},
     "output_type": "execute_result"
    },
    {
     "data": {
      "application/javascript": [
       "\n",
       "            setTimeout(function() {\n",
       "                var nbb_cell_id = 9;\n",
       "                var nbb_unformatted_code = \"# Part 1\\n\\nscores = []\\nfor line in lines:\\n    opp_throw, our_throw = line.split()\\n    opp_rps = RockPaperScissors(opp_throw)\\n    our_rps = RockPaperScissors(our_throw)\\n    score = our_rps.compare(opp_rps) + our_rps.points\\n    scores.append(score)\\n    \\nscores\";\n",
       "                var nbb_formatted_code = \"# Part 1\\n\\nscores = []\\nfor line in lines:\\n    opp_throw, our_throw = line.split()\\n    opp_rps = RockPaperScissors(opp_throw)\\n    our_rps = RockPaperScissors(our_throw)\\n    score = our_rps.compare(opp_rps) + our_rps.points\\n    scores.append(score)\\n\\nscores\";\n",
       "                var nbb_cells = Jupyter.notebook.get_cells();\n",
       "                for (var i = 0; i < nbb_cells.length; ++i) {\n",
       "                    if (nbb_cells[i].input_prompt_number == nbb_cell_id) {\n",
       "                        if (nbb_cells[i].get_text() == nbb_unformatted_code) {\n",
       "                             nbb_cells[i].set_text(nbb_formatted_code);\n",
       "                        }\n",
       "                        break;\n",
       "                    }\n",
       "                }\n",
       "            }, 500);\n",
       "            "
      ],
      "text/plain": [
       "<IPython.core.display.Javascript object>"
      ]
     },
     "metadata": {},
     "output_type": "display_data"
    }
   ],
   "source": [
    "# Part 1\n",
    "\n",
    "scores = []\n",
    "for line in lines:\n",
    "    opp_throw, our_throw = line.split()\n",
    "    opp_rps = RockPaperScissors(opp_throw)\n",
    "    our_rps = RockPaperScissors(our_throw)\n",
    "    score = our_rps.compare(opp_rps) + our_rps.points\n",
    "    scores.append(score)\n",
    "    \n",
    "scores"
   ]
  },
  {
   "cell_type": "code",
   "execution_count": 10,
   "id": "03a298e5-b888-4434-98dd-4f0b49489032",
   "metadata": {},
   "outputs": [
    {
     "data": {
      "text/plain": [
       "15"
      ]
     },
     "execution_count": 10,
     "metadata": {},
     "output_type": "execute_result"
    },
    {
     "data": {
      "application/javascript": [
       "\n",
       "            setTimeout(function() {\n",
       "                var nbb_cell_id = 10;\n",
       "                var nbb_unformatted_code = \"sum(scores)\";\n",
       "                var nbb_formatted_code = \"sum(scores)\";\n",
       "                var nbb_cells = Jupyter.notebook.get_cells();\n",
       "                for (var i = 0; i < nbb_cells.length; ++i) {\n",
       "                    if (nbb_cells[i].input_prompt_number == nbb_cell_id) {\n",
       "                        if (nbb_cells[i].get_text() == nbb_unformatted_code) {\n",
       "                             nbb_cells[i].set_text(nbb_formatted_code);\n",
       "                        }\n",
       "                        break;\n",
       "                    }\n",
       "                }\n",
       "            }, 500);\n",
       "            "
      ],
      "text/plain": [
       "<IPython.core.display.Javascript object>"
      ]
     },
     "metadata": {},
     "output_type": "display_data"
    }
   ],
   "source": [
    "sum(scores)"
   ]
  },
  {
   "cell_type": "code",
   "execution_count": 11,
   "id": "b2f50ad3-5454-4d22-914d-bd079476decc",
   "metadata": {},
   "outputs": [
    {
     "data": {
      "text/plain": [
       "[4, 1, 7]"
      ]
     },
     "execution_count": 11,
     "metadata": {},
     "output_type": "execute_result"
    },
    {
     "data": {
      "application/javascript": [
       "\n",
       "            setTimeout(function() {\n",
       "                var nbb_cell_id = 11;\n",
       "                var nbb_unformatted_code = \"# part 2\\n\\nscores = []\\nfor line in lines:\\n    opp_throw, our_throw = line.split()\\n    opp_rps = RockPaperScissors(opp_throw)\\n    our_rps = RockPaperScissors(our_throw)\\n    \\n    should_play = our_rps.should_play(opp_rps)\\n    score = should_play.compare(opp_rps) + should_play.points\\n    scores.append(score)\\n    \\nscores\";\n",
       "                var nbb_formatted_code = \"# part 2\\n\\nscores = []\\nfor line in lines:\\n    opp_throw, our_throw = line.split()\\n    opp_rps = RockPaperScissors(opp_throw)\\n    our_rps = RockPaperScissors(our_throw)\\n\\n    should_play = our_rps.should_play(opp_rps)\\n    score = should_play.compare(opp_rps) + should_play.points\\n    scores.append(score)\\n\\nscores\";\n",
       "                var nbb_cells = Jupyter.notebook.get_cells();\n",
       "                for (var i = 0; i < nbb_cells.length; ++i) {\n",
       "                    if (nbb_cells[i].input_prompt_number == nbb_cell_id) {\n",
       "                        if (nbb_cells[i].get_text() == nbb_unformatted_code) {\n",
       "                             nbb_cells[i].set_text(nbb_formatted_code);\n",
       "                        }\n",
       "                        break;\n",
       "                    }\n",
       "                }\n",
       "            }, 500);\n",
       "            "
      ],
      "text/plain": [
       "<IPython.core.display.Javascript object>"
      ]
     },
     "metadata": {},
     "output_type": "display_data"
    }
   ],
   "source": [
    "# part 2\n",
    "\n",
    "scores = []\n",
    "for line in lines:\n",
    "    opp_throw, our_throw = line.split()\n",
    "    opp_rps = RockPaperScissors(opp_throw)\n",
    "    our_rps = RockPaperScissors(our_throw)\n",
    "    \n",
    "    should_play = our_rps.should_play(opp_rps)\n",
    "    score = should_play.compare(opp_rps) + should_play.points\n",
    "    scores.append(score)\n",
    "    \n",
    "scores"
   ]
  },
  {
   "cell_type": "code",
   "execution_count": 12,
   "id": "309c4846-fe0c-4b0c-a358-0cb0475e9b7b",
   "metadata": {},
   "outputs": [
    {
     "data": {
      "text/plain": [
       "12"
      ]
     },
     "execution_count": 12,
     "metadata": {},
     "output_type": "execute_result"
    },
    {
     "data": {
      "application/javascript": [
       "\n",
       "            setTimeout(function() {\n",
       "                var nbb_cell_id = 12;\n",
       "                var nbb_unformatted_code = \"sum(scores)\";\n",
       "                var nbb_formatted_code = \"sum(scores)\";\n",
       "                var nbb_cells = Jupyter.notebook.get_cells();\n",
       "                for (var i = 0; i < nbb_cells.length; ++i) {\n",
       "                    if (nbb_cells[i].input_prompt_number == nbb_cell_id) {\n",
       "                        if (nbb_cells[i].get_text() == nbb_unformatted_code) {\n",
       "                             nbb_cells[i].set_text(nbb_formatted_code);\n",
       "                        }\n",
       "                        break;\n",
       "                    }\n",
       "                }\n",
       "            }, 500);\n",
       "            "
      ],
      "text/plain": [
       "<IPython.core.display.Javascript object>"
      ]
     },
     "metadata": {},
     "output_type": "display_data"
    }
   ],
   "source": [
    "sum(scores)"
   ]
  },
  {
   "cell_type": "code",
   "execution_count": null,
   "id": "5c554303-75f6-4bb8-8872-2e1ec04f8d14",
   "metadata": {},
   "outputs": [],
   "source": []
  }
 ],
 "metadata": {
  "kernelspec": {
   "display_name": "Python 3 (ipykernel)",
   "language": "python",
   "name": "python3"
  },
  "language_info": {
   "codemirror_mode": {
    "name": "ipython",
    "version": 3
   },
   "file_extension": ".py",
   "mimetype": "text/x-python",
   "name": "python",
   "nbconvert_exporter": "python",
   "pygments_lexer": "ipython3",
   "version": "3.10.2"
  }
 },
 "nbformat": 4,
 "nbformat_minor": 5
}
