{
 "cells": [
  {
   "cell_type": "markdown",
   "id": "02b8ab30-fd69-4fa6-ac46-796883a13904",
   "metadata": {},
   "source": [
    "Following the Elf's instructions for the second column, what would your total score be if everything goes exactly according to your strategy guide?"
   ]
  },
  {
   "cell_type": "code",
   "execution_count": 1,
   "id": "5bd10702-b13f-423e-bc79-34eca8089401",
   "metadata": {},
   "outputs": [],
   "source": [
    "class RockPaperScissors:\n",
    "    def __init__(self, input_value: str):\n",
    "        self.input_value = input_value\n",
    "        if input_value in ['A', 'X']:\n",
    "            self.value = 'rock'\n",
    "            self.points = 1\n",
    "        elif input_value in ['B', 'Y']:\n",
    "            self.value = 'paper'\n",
    "            self.points = 2\n",
    "        elif input_value in ['C', 'Z']:\n",
    "            self.value = 'scissors'\n",
    "            self.points = 3\n",
    "    \n",
    "    def compare(self, other: 'RockPaperScissors'):\n",
    "        # draw on same value\n",
    "        if self.value == other.value:\n",
    "            return 3\n",
    "        # win conditions\n",
    "        if self.value == 'rock' and other.value == 'scissors':\n",
    "            return 6\n",
    "        if self.value == 'scissors' and other.value == 'paper':\n",
    "            return 6\n",
    "        if self.value == 'paper' and other.value == 'rock':\n",
    "            return 6\n",
    "        # if past draw and win conditions, return 0 as lose condition\n",
    "        return 0\n",
    "    \n",
    "    def should_play(self, other: 'RockPaperScissors'):\n",
    "        # applicable to part 2 problem\n",
    "        if self.input_value == 'X':\n",
    "            # return value that loses\n",
    "            if other.value == 'rock':\n",
    "                return RockPaperScissors('Z') # scissors\n",
    "            elif other.value == 'paper':\n",
    "                return RockPaperScissors('X') # rock\n",
    "            elif other.value == 'scissors':\n",
    "                return RockPaperScissors('Y') # paper\n",
    "        elif self.input_value == 'Y':\n",
    "            # return value that ties\n",
    "            if other.value == 'rock':\n",
    "                return RockPaperScissors('X') # rock\n",
    "            elif other.value == 'paper':\n",
    "                return RockPaperScissors('Y') # paper\n",
    "            elif other.value == 'scissors':\n",
    "                return RockPaperScissors('Z') # scissors\n",
    "        elif self.input_value == 'Z':\n",
    "            # return value that wins\n",
    "            if other.value == 'rock':\n",
    "                return RockPaperScissors('Y') # paper\n",
    "            elif other.value == 'paper':\n",
    "                return RockPaperScissors('Z') # scissors\n",
    "            elif other.value == 'scissors':\n",
    "                return RockPaperScissors('X') # rock\n",
    "            \n",
    "        \n",
    "    \n",
    "    def __repr__(self):\n",
    "        return f\"<RPS {self.input_value} ({self.value} {self.points})\" "
   ]
  },
  {
   "cell_type": "code",
   "execution_count": 2,
   "id": "0467ab74-4b8f-46c7-a02d-410fef551621",
   "metadata": {},
   "outputs": [
    {
     "data": {
      "text/plain": [
       "2500"
      ]
     },
     "execution_count": 2,
     "metadata": {},
     "output_type": "execute_result"
    }
   ],
   "source": [
    "lines = open('../data/02.txt').readlines()\n",
    "len(lines)"
   ]
  },
  {
   "cell_type": "code",
   "execution_count": 3,
   "id": "99f79531-3ee9-4b17-8d55-51fd85824959",
   "metadata": {},
   "outputs": [
    {
     "data": {
      "text/plain": [
       "[9, 7, 7, 4, 9, 6, 7, 6, 2, 8]"
      ]
     },
     "execution_count": 3,
     "metadata": {},
     "output_type": "execute_result"
    }
   ],
   "source": [
    "scores = []\n",
    "for line in lines:\n",
    "    opp_throw, our_throw = line.split()\n",
    "    opp_rps = RockPaperScissors(opp_throw)\n",
    "    our_rps = RockPaperScissors(our_throw)\n",
    "    \n",
    "    should_play = our_rps.should_play(opp_rps)\n",
    "    score = should_play.compare(opp_rps) + should_play.points\n",
    "    scores.append(score)\n",
    "    \n",
    "scores[:10]"
   ]
  },
  {
   "cell_type": "code",
   "execution_count": 4,
   "id": "1341b62a-9bd7-4d3f-9318-6c36855e8ea0",
   "metadata": {},
   "outputs": [
    {
     "data": {
      "text/plain": [
       "12091"
      ]
     },
     "execution_count": 4,
     "metadata": {},
     "output_type": "execute_result"
    }
   ],
   "source": [
    "sum(scores)"
   ]
  },
  {
   "cell_type": "code",
   "execution_count": null,
   "id": "293f0ffe-3ee3-4959-8e41-eef032f3dee9",
   "metadata": {},
   "outputs": [],
   "source": []
  }
 ],
 "metadata": {
  "kernelspec": {
   "display_name": "Python 3 (ipykernel)",
   "language": "python",
   "name": "python3"
  },
  "language_info": {
   "codemirror_mode": {
    "name": "ipython",
    "version": 3
   },
   "file_extension": ".py",
   "mimetype": "text/x-python",
   "name": "python",
   "nbconvert_exporter": "python",
   "pygments_lexer": "ipython3",
   "version": "3.10.2"
  }
 },
 "nbformat": 4,
 "nbformat_minor": 5
}
