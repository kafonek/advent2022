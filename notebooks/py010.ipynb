{
 "cells": [
  {
   "cell_type": "markdown",
   "id": "4544f160-74d9-48d3-9c8b-e0e2d5c6b57d",
   "metadata": {},
   "source": [
    "The jungle must be too overgrown and difficult to navigate in vehicles or access from the air; the Elves' expedition traditionally goes on foot. As your boats approach land, the Elves begin taking inventory of their supplies. One important consideration is food - in particular, the number of Calories each Elf is carrying (your puzzle input).\n",
    "\n",
    "The Elves take turns writing down the number of Calories contained by the various meals, snacks, rations, etc. that they've brought with them, one item per line. Each Elf separates their own inventory from the previous Elf's inventory (if any) by a blank line.\n",
    "\n",
    "For example, suppose the Elves finish writing their items' Calories and end up with the following list:\n",
    "\n",
    "```\n",
    "1000\n",
    "2000\n",
    "3000\n",
    "\n",
    "4000\n",
    "\n",
    "5000\n",
    "6000\n",
    "\n",
    "7000\n",
    "8000\n",
    "9000\n",
    "\n",
    "10000\n",
    "```\n",
    "\n",
    "This list represents the Calories of the food carried by five Elves:\n",
    "\n",
    "- The first Elf is carrying food with 1000, 2000, and 3000 Calories, a total of 6000 Calories.\n",
    "- The second Elf is carrying one food item with 4000 Calories.\n",
    "- The third Elf is carrying food with 5000 and 6000 Calories, a total of 11000 Calories.\n",
    "- The fourth Elf is carrying food with 7000, 8000, and 9000 Calories, a total of 24000 Calories.\n",
    "- The fifth Elf is carrying one food item with 10000 Calories.\n",
    "\n",
    "## Part 1\n",
    "\n",
    "In case the Elves get hungry and need extra snacks, they need to know which Elf to ask: they'd like to know how many Calories are being carried by the Elf carrying the most Calories. In the example above, this is 24000 (carried by the fourth Elf).\n",
    "\n",
    "## Part 2\n",
    "\n",
    "By the time you calculate the answer to the Elves' question, they've already realized that the Elf carrying the most Calories of food might eventually run out of snacks.\n",
    "\n",
    "To avoid this unacceptable situation, the Elves would instead like to know the total Calories carried by the top three Elves carrying the most Calories. That way, even if one of those Elves runs out of snacks, they still have two backups.\n",
    "\n",
    "In the example above, the top three Elves are the fourth Elf (with 24000 Calories), then the third Elf (with 11000 Calories), then the fifth Elf (with 10000 Calories). The sum of the Calories carried by these three elves is 45000."
   ]
  },
  {
   "cell_type": "code",
   "execution_count": 2,
   "id": "094584ab-5e80-4af9-aefc-7e7dc88c3579",
   "metadata": {},
   "outputs": [
    {
     "data": {
      "text/plain": [
       "14"
      ]
     },
     "execution_count": 2,
     "metadata": {},
     "output_type": "execute_result"
    }
   ],
   "source": [
    "import io\n",
    "\n",
    "text = io.StringIO(\"\"\"\n",
    "1000\n",
    "2000\n",
    "3000\n",
    "\n",
    "4000\n",
    "\n",
    "5000\n",
    "6000\n",
    "\n",
    "7000\n",
    "8000\n",
    "9000\n",
    "\n",
    "10000\n",
    "\"\"\".strip())\n",
    "\n",
    "lines = text.readlines()\n",
    "len(lines)"
   ]
  },
  {
   "cell_type": "code",
   "execution_count": 3,
   "id": "e73a7da4-458c-4291-97d0-208550e4708c",
   "metadata": {},
   "outputs": [
    {
     "data": {
      "text/plain": [
       "['1000\\n', '2000\\n', '3000\\n']"
      ]
     },
     "execution_count": 3,
     "metadata": {},
     "output_type": "execute_result"
    }
   ],
   "source": [
    "lines[:3]"
   ]
  },
  {
   "cell_type": "code",
   "execution_count": 11,
   "id": "1b962f75-0f80-4c9e-a8b3-10cf85da8671",
   "metadata": {},
   "outputs": [
    {
     "data": {
      "text/plain": [
       "5"
      ]
     },
     "execution_count": 11,
     "metadata": {},
     "output_type": "execute_result"
    }
   ],
   "source": [
    "counts = []\n",
    "count = 0\n",
    "\n",
    "# Group lines into sums of integers delimited by empty lines\n",
    "for line in lines:\n",
    "    line = line.strip()\n",
    "    # if the line is empty, append current total to counts list \n",
    "    # and reset count to 0\n",
    "    if not line:\n",
    "        counts.append(count)\n",
    "        count = 0\n",
    "    else:\n",
    "        # if line is not empty, bump count by line value\n",
    "        count += int(line)\n",
    "\n",
    "# Append the last group when the loop is over\n",
    "counts.append(count)\n",
    "\n",
    "len(counts)"
   ]
  },
  {
   "cell_type": "code",
   "execution_count": 12,
   "id": "5cab1f41-ed9d-4550-9d5d-891a881ecc4a",
   "metadata": {},
   "outputs": [
    {
     "data": {
      "text/plain": [
       "[6000, 4000, 11000, 24000, 10000]"
      ]
     },
     "execution_count": 12,
     "metadata": {},
     "output_type": "execute_result"
    }
   ],
   "source": [
    "counts"
   ]
  },
  {
   "cell_type": "code",
   "execution_count": 13,
   "id": "643f1079-b6cc-4fc1-860b-9921f15dd8f5",
   "metadata": {},
   "outputs": [
    {
     "data": {
      "text/plain": [
       "24000"
      ]
     },
     "execution_count": 13,
     "metadata": {},
     "output_type": "execute_result"
    }
   ],
   "source": [
    "# part 1\n",
    "max(counts)"
   ]
  },
  {
   "cell_type": "code",
   "execution_count": 14,
   "id": "e82aa733-56b5-4572-959b-b998af0eb30b",
   "metadata": {},
   "outputs": [
    {
     "data": {
      "text/plain": [
       "45000"
      ]
     },
     "execution_count": 14,
     "metadata": {},
     "output_type": "execute_result"
    }
   ],
   "source": [
    "# part 2\n",
    "sum(sorted(counts, reverse=True)[:3])"
   ]
  },
  {
   "cell_type": "code",
   "execution_count": null,
   "id": "25774c47-2a61-43f3-88cc-95558cbb03ca",
   "metadata": {},
   "outputs": [],
   "source": []
  }
 ],
 "metadata": {
  "kernelspec": {
   "display_name": "Python 3 (ipykernel)",
   "language": "python",
   "name": "python3"
  },
  "language_info": {
   "codemirror_mode": {
    "name": "ipython",
    "version": 3
   },
   "file_extension": ".py",
   "mimetype": "text/x-python",
   "name": "python",
   "nbconvert_exporter": "python",
   "pygments_lexer": "ipython3",
   "version": "3.10.2"
  }
 },
 "nbformat": 4,
 "nbformat_minor": 5
}
