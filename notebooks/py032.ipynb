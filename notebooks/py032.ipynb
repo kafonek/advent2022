{
 "cells": [
  {
   "cell_type": "markdown",
   "id": "b47835fc-87cc-4486-b3bc-f0aa21d9eb29",
   "metadata": {},
   "source": [
    "Find the item type that corresponds to the badges of each three-Elf group. What is the sum of the priorities of those item types?"
   ]
  },
  {
   "cell_type": "code",
   "execution_count": 1,
   "id": "fd0e7ae9-f339-4015-add8-26c3991da9af",
   "metadata": {},
   "outputs": [
    {
     "data": {
      "text/plain": [
       "300"
      ]
     },
     "execution_count": 1,
     "metadata": {},
     "output_type": "execute_result"
    }
   ],
   "source": [
    "lines = open('../data/03.txt').readlines()\n",
    "len(lines)"
   ]
  },
  {
   "cell_type": "code",
   "execution_count": 2,
   "id": "0bfdb282-2d5f-4600-a2a3-5b0cf27363f7",
   "metadata": {},
   "outputs": [
    {
     "data": {
      "text/plain": [
       "['ZTmtZvZLTFNLMQMNRvZncdcHwcScJvcdHnVfwV\\n',\n",
       " 'zqjqrzqjCqrjtqWhqChqrznhcfdfVnVSVgcffcgJcSgd\\n',\n",
       " 'rtDGpzjjqjlrGsWqBWFRsbTPFQMTbRNRFmbs\\n']"
      ]
     },
     "execution_count": 2,
     "metadata": {},
     "output_type": "execute_result"
    }
   ],
   "source": [
    "lines[:3]"
   ]
  },
  {
   "cell_type": "code",
   "execution_count": 3,
   "id": "a1661ec5-6e47-4d0d-9b70-0af92a431ace",
   "metadata": {},
   "outputs": [
    {
     "data": {
      "text/plain": [
       "([(' ', 0), ('a', 1), ('b', 2), ('c', 3), ('d', 4)],\n",
       " [('V', 48), ('W', 49), ('X', 50), ('Y', 51), ('Z', 52)])"
      ]
     },
     "execution_count": 3,
     "metadata": {},
     "output_type": "execute_result"
    }
   ],
   "source": [
    "letter_values = {letter: idx for idx, letter in enumerate(' abcdefghijklmnopqrstuvwxyzABCDEFGHIJKLMNOPQRSTUVWXYZ')}\n",
    "list(letter_values.items())[:5], list(letter_values.items())[-5:]"
   ]
  },
  {
   "cell_type": "code",
   "execution_count": 4,
   "id": "c71d2440-b19d-4b0e-9f91-a370c451c192",
   "metadata": {},
   "outputs": [
    {
     "data": {
      "text/plain": [
       "100"
      ]
     },
     "execution_count": 4,
     "metadata": {},
     "output_type": "execute_result"
    }
   ],
   "source": [
    "groups = []\n",
    "\n",
    "i = 0\n",
    "group = []\n",
    "for line in lines:\n",
    "    if i == 3:\n",
    "        groups.append(group)\n",
    "        group = []\n",
    "        i = 0\n",
    "    group.append(line.strip())\n",
    "    i += 1\n",
    "\n",
    "groups.append(group)\n",
    "\n",
    "len(groups)"
   ]
  },
  {
   "cell_type": "code",
   "execution_count": 5,
   "id": "613c62a8-86ef-4425-9c9b-6a8970b69044",
   "metadata": {},
   "outputs": [
    {
     "data": {
      "text/plain": [
       "[['ZTmtZvZLTFNLMQMNRvZncdcHwcScJvcdHnVfwV',\n",
       "  'zqjqrzqjCqrjtqWhqChqrznhcfdfVnVSVgcffcgJcSgd',\n",
       "  'rtDGpzjjqjlrGsWqBWFRsbTPFQMTbRNRFmbs'],\n",
       " ['FFlnlnVlmQqcBVhBRrSrGSwVdRJbztSt',\n",
       "  'NPPNsffWfNztRZSJNG',\n",
       "  'WpgpTTHDpgTDDpMLPGgMHslmBmmHcBQnFmcqhmnjlqQm'],\n",
       " ['VlVNLlPQhtnDRPnP',\n",
       "  'QgqTffzZqgvgzWmqqZmGcDthtRFvnnFnhJtJJDDt',\n",
       "  'WGTBzSqBQTQmZBWHswpNbswLbSNCNl']]"
      ]
     },
     "execution_count": 5,
     "metadata": {},
     "output_type": "execute_result"
    }
   ],
   "source": [
    "groups[:3]"
   ]
  },
  {
   "cell_type": "code",
   "execution_count": 7,
   "id": "8876f445-bd6d-4a43-bceb-f6c97abd6c05",
   "metadata": {},
   "outputs": [
    {
     "data": {
      "text/plain": [
       "[20, 33, 43, 17, 40]"
      ]
     },
     "execution_count": 7,
     "metadata": {},
     "output_type": "execute_result"
    }
   ],
   "source": [
    "points = []\n",
    "\n",
    "for group in groups:\n",
    "    for letter in group[0]:\n",
    "        if letter in group[1] and letter in group[2]:\n",
    "            shared_letter = letter\n",
    "            points.append(letter_values[shared_letter])\n",
    "            break\n",
    "            \n",
    "points[:5]"
   ]
  },
  {
   "cell_type": "code",
   "execution_count": 8,
   "id": "16334de8-cd22-431b-b21a-8b7739bb9703",
   "metadata": {},
   "outputs": [
    {
     "data": {
      "text/plain": [
       "2973"
      ]
     },
     "execution_count": 8,
     "metadata": {},
     "output_type": "execute_result"
    }
   ],
   "source": [
    "sum(points)"
   ]
  },
  {
   "cell_type": "code",
   "execution_count": null,
   "id": "6e0c25f1-b0d0-4f64-8010-788d5c613ccb",
   "metadata": {},
   "outputs": [],
   "source": []
  }
 ],
 "metadata": {
  "kernelspec": {
   "display_name": "Python 3 (ipykernel)",
   "language": "python",
   "name": "python3"
  },
  "language_info": {
   "codemirror_mode": {
    "name": "ipython",
    "version": 3
   },
   "file_extension": ".py",
   "mimetype": "text/x-python",
   "name": "python",
   "nbconvert_exporter": "python",
   "pygments_lexer": "ipython3",
   "version": "3.10.2"
  }
 },
 "nbformat": 4,
 "nbformat_minor": 5
}
