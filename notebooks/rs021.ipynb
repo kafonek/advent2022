{
 "cells": [
  {
   "cell_type": "markdown",
   "id": "0ce9b7ce-e5e8-49d5-99f2-237fda8cc87f",
   "metadata": {},
   "source": [
    "What would your total score be if everything goes exactly according to your strategy guide?"
   ]
  },
  {
   "cell_type": "code",
   "execution_count": 2,
   "id": "785760c5-9f93-4a3c-ab31-2525fca8af80",
   "metadata": {},
   "outputs": [],
   "source": [
    "#[derive(Debug, Clone)]\n",
    "pub struct RockPaperScissors {\n",
    "    input_value: String, // A, B, C, X, Y, Z\n",
    "    value: String, // 'rock', 'paper', 'scissors'\n",
    "    points: i32 // 1 for rock, 2 for paper, 3 for scissors\n",
    "}\n",
    "\n",
    "impl RockPaperScissors {\n",
    "    pub fn new(input_value: &str) -> Self {\n",
    "        let value: &str = match input_value {\n",
    "            \"A\" | \"X\" => \"rock\",\n",
    "            \"B\" | \"Y\" => \"paper\",\n",
    "            \"C\" | \"Z\" => \"scissors\",\n",
    "            _ => \"unknown\"\n",
    "        };\n",
    "        let points: i32 = match value {\n",
    "            \"rock\" => 1,\n",
    "            \"paper\" => 2,\n",
    "            \"scissors\" => 3,\n",
    "            _ => 0\n",
    "        };\n",
    "        RockPaperScissors { \n",
    "            input_value: input_value.to_string(), \n",
    "            value: value.to_string(), \n",
    "            points: points\n",
    "        }\n",
    "    }\n",
    "    \n",
    "    pub fn compare(&self, other: RockPaperScissors) -> i32 {\n",
    "        // win = 6, draw = 3, lose = 0\n",
    "        let points: i32 = match (self.value.as_str(), other.value.as_str()) {\n",
    "            (\"rock\", \"scissors\") | (\"paper\", \"rock\") | (\"scissors\", \"paper\") => 6,\n",
    "            (\"rock\", \"rock\") | (\"paper\", \"paper\") | (\"scissors\", \"scissors\") => 3,\n",
    "            _ => 0\n",
    "        };\n",
    "        points\n",
    "    }\n",
    "    \n",
    "    pub fn should_play(&self, other: RockPaperScissors) -> RockPaperScissors {\n",
    "        // applicable to part 2, determine what we should play from input_value and other value\n",
    "        let play: RockPaperScissors = match (self.input_value.as_str(), other.value.as_str()) {\n",
    "            // X = lose, Y = Draw, Z = Win\n",
    "            // return Rock (X) if we should lose to paper, draw to rock, win to scissors\n",
    "            (\"X\", \"paper\") | (\"Y\", \"rock\") | (\"Z\", \"scissors\") => RockPaperScissors::new(\"X\"),\n",
    "            // return Paper (Y) if we should lose to scissors, draw to paper, win to rock\n",
    "            (\"X\", \"scissors\") | (\"Y\", \"paper\") | (\"Z\", \"rock\") => RockPaperScissors::new(\"Y\"),\n",
    "            _ => RockPaperScissors::new(\"Z\"),\n",
    "        };\n",
    "        play\n",
    "    }\n",
    "}"
   ]
  },
  {
   "cell_type": "code",
   "execution_count": 3,
   "id": "72eb9828-13d5-47fe-9e0b-5bba53cf3c24",
   "metadata": {},
   "outputs": [
    {
     "data": {
      "text/plain": [
       "Lines { buf: BufReader { reader: File { fd: 3, path: \"/home/kafonek/advent2022/data/02.txt\", read: true, write: false }, buffer: 0/8192 } }"
      ]
     },
     "execution_count": 3,
     "metadata": {},
     "output_type": "execute_result"
    }
   ],
   "source": [
    "use std::fs::File;\n",
    "use std::io::{BufRead, BufReader};\n",
    "\n",
    "let reader = BufReader::new(File::open(\"../data/02.txt\")?);\n",
    "let lines = reader.lines();\n",
    "lines"
   ]
  },
  {
   "cell_type": "code",
   "execution_count": 4,
   "id": "e760817f-e6f3-4fdb-9142-d6fd4decf8cf",
   "metadata": {},
   "outputs": [
    {
     "data": {
      "text/plain": [
       "2500"
      ]
     },
     "execution_count": 4,
     "metadata": {},
     "output_type": "execute_result"
    }
   ],
   "source": [
    "lines.count()"
   ]
  },
  {
   "cell_type": "code",
   "execution_count": 5,
   "id": "06a2f104-1b6f-40d8-b979-0e94147c5a78",
   "metadata": {},
   "outputs": [
    {
     "data": {
      "text/plain": [
       "[9, 6, 6, 8, 9]"
      ]
     },
     "execution_count": 5,
     "metadata": {},
     "output_type": "execute_result"
    }
   ],
   "source": [
    "let mut scores: Vec<i32> = Vec::new();\n",
    "let reader = BufReader::new(File::open(\"../data/02.txt\")?);\n",
    "let lines = reader.lines();\n",
    "\n",
    "for line in lines {\n",
    "    let line = line.unwrap();\n",
    "    // Vector of two RPS objects (their throw, our throw)\n",
    "    let throws: Vec<RockPaperScissors> = line.split_whitespace().map(RockPaperScissors::new).collect();\n",
    "    let our_throw = throws[1].clone();\n",
    "    let their_throw = throws[0].clone();\n",
    "    let points: i32 = our_throw.compare(their_throw) + our_throw.points;\n",
    "    scores.push(points);\n",
    "}\n",
    "\n",
    "scores[..5]"
   ]
  },
  {
   "cell_type": "code",
   "execution_count": 6,
   "id": "bd46374a-34b7-4253-a744-ab8f90bf745e",
   "metadata": {},
   "outputs": [
    {
     "data": {
      "text/plain": [
       "14163"
      ]
     },
     "execution_count": 6,
     "metadata": {},
     "output_type": "execute_result"
    }
   ],
   "source": [
    "let sum: i32 = scores.iter().sum();\n",
    "sum"
   ]
  },
  {
   "cell_type": "code",
   "execution_count": null,
   "id": "f11ba03b-414d-4f56-8431-92d4a3d327d0",
   "metadata": {},
   "outputs": [],
   "source": []
  }
 ],
 "metadata": {
  "kernelspec": {
   "display_name": "Rust",
   "language": "rust",
   "name": "rust"
  },
  "language_info": {
   "codemirror_mode": "rust",
   "file_extension": ".rs",
   "mimetype": "text/rust",
   "name": "Rust",
   "pygment_lexer": "rust",
   "version": ""
  }
 },
 "nbformat": 4,
 "nbformat_minor": 5
}
