{
 "cells": [
  {
   "cell_type": "markdown",
   "id": "698b254e-d551-4ed6-b50c-43d5cd294671",
   "metadata": {},
   "source": [
    "What would your total score be if everything goes exactly according to your strategy guide?"
   ]
  },
  {
   "cell_type": "code",
   "execution_count": 1,
   "id": "d530def1-3c85-45ec-841e-acae91b0b0c1",
   "metadata": {},
   "outputs": [],
   "source": [
    "class RockPaperScissors:\n",
    "    def __init__(self, input_value: str):\n",
    "        self.input_value = input_value\n",
    "        if input_value in ['A', 'X']:\n",
    "            self.value = 'rock'\n",
    "            self.points = 1\n",
    "        elif input_value in ['B', 'Y']:\n",
    "            self.value = 'paper'\n",
    "            self.points = 2\n",
    "        elif input_value in ['C', 'Z']:\n",
    "            self.value = 'scissors'\n",
    "            self.points = 3\n",
    "    \n",
    "    def compare(self, other: 'RockPaperScissors'):\n",
    "        # draw on same value\n",
    "        if self.value == other.value:\n",
    "            return 3\n",
    "        # win conditions\n",
    "        if self.value == 'rock' and other.value == 'scissors':\n",
    "            return 6\n",
    "        if self.value == 'scissors' and other.value == 'paper':\n",
    "            return 6\n",
    "        if self.value == 'paper' and other.value == 'rock':\n",
    "            return 6\n",
    "        # if past draw and win conditions, return 0 as lose condition\n",
    "        return 0\n",
    "        \n",
    "    \n",
    "    def __repr__(self):\n",
    "        return f\"<RPS {self.input_value} ({self.value} {self.points})\" "
   ]
  },
  {
   "cell_type": "code",
   "execution_count": 2,
   "id": "14771c18-fd44-4857-b218-ff0224d03c30",
   "metadata": {},
   "outputs": [
    {
     "data": {
      "text/plain": [
       "2500"
      ]
     },
     "execution_count": 2,
     "metadata": {},
     "output_type": "execute_result"
    }
   ],
   "source": [
    "lines = open('../data/02.txt').readlines()\n",
    "len(lines)"
   ]
  },
  {
   "cell_type": "code",
   "execution_count": 3,
   "id": "17dc1852-e85a-43da-9468-f46eea018bc0",
   "metadata": {},
   "outputs": [
    {
     "data": {
      "text/plain": [
       "[9, 6, 6, 8, 9, 2, 6, 2, 7, 3]"
      ]
     },
     "execution_count": 3,
     "metadata": {},
     "output_type": "execute_result"
    }
   ],
   "source": [
    "scores = []\n",
    "for line in lines:\n",
    "    opp_throw, our_throw = line.split()\n",
    "    opp_rps = RockPaperScissors(opp_throw)\n",
    "    our_rps = RockPaperScissors(our_throw)\n",
    "    score = our_rps.compare(opp_rps) + our_rps.points\n",
    "    scores.append(score)\n",
    "    \n",
    "scores[:10]"
   ]
  },
  {
   "cell_type": "code",
   "execution_count": 4,
   "id": "f66a803f-91d2-468f-b031-67766d75b5a2",
   "metadata": {},
   "outputs": [
    {
     "data": {
      "text/plain": [
       "14163"
      ]
     },
     "execution_count": 4,
     "metadata": {},
     "output_type": "execute_result"
    }
   ],
   "source": [
    "sum(scores)"
   ]
  },
  {
   "cell_type": "code",
   "execution_count": null,
   "id": "2587167c-5076-4d9c-92c3-6248645e36e9",
   "metadata": {},
   "outputs": [],
   "source": []
  }
 ],
 "metadata": {
  "kernelspec": {
   "display_name": "Python 3 (ipykernel)",
   "language": "python",
   "name": "python3"
  },
  "language_info": {
   "codemirror_mode": {
    "name": "ipython",
    "version": 3
   },
   "file_extension": ".py",
   "mimetype": "text/x-python",
   "name": "python",
   "nbconvert_exporter": "python",
   "pygments_lexer": "ipython3",
   "version": "3.10.2"
  }
 },
 "nbformat": 4,
 "nbformat_minor": 5
}
