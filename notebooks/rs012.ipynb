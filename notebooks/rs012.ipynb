{
 "cells": [
  {
   "cell_type": "code",
   "execution_count": 2,
   "id": "2405f6b8-df65-4dc3-8a97-8969f5bfaec5",
   "metadata": {},
   "outputs": [
    {
     "data": {
      "text/plain": [
       "Lines { buf: BufReader { reader: File { fd: 3, path: \"/home/kafonek/advent2022/data/01.txt\", read: true, write: false }, buffer: 0/8192 } }"
      ]
     },
     "execution_count": 2,
     "metadata": {},
     "output_type": "execute_result"
    }
   ],
   "source": [
    "use std::fs::File;\n",
    "use std::io::{BufRead, BufReader};\n",
    "\n",
    "let reader = BufReader::new(File::open(\"../data/01.txt\")?);\n",
    "let lines = reader.lines();\n",
    "lines"
   ]
  },
  {
   "cell_type": "code",
   "execution_count": 3,
   "id": "86ccca0c-dd13-406b-917a-5c75307fbf25",
   "metadata": {},
   "outputs": [
    {
     "data": {
      "text/plain": [
       "2253"
      ]
     },
     "execution_count": 3,
     "metadata": {},
     "output_type": "execute_result"
    }
   ],
   "source": [
    "lines.count()"
   ]
  },
  {
   "cell_type": "code",
   "execution_count": 4,
   "id": "3167323f-42d5-4d1c-9534-c839c0c42c64",
   "metadata": {},
   "outputs": [
    {
     "data": {
      "text/plain": [
       "254"
      ]
     },
     "execution_count": 4,
     "metadata": {},
     "output_type": "execute_result"
    }
   ],
   "source": [
    "let mut counts: Vec<i32> = Vec::new();\n",
    "let mut count: i32 = 0;\n",
    "\n",
    "// repeated from cell1, otherwise get \"lines not in scope\", not sure why yet\n",
    "let reader = BufReader::new(File::open(\"../data/01.txt\")?);\n",
    "let lines = reader.lines();\n",
    "\n",
    "// Group lines into sums of integers delimited by empty lines\n",
    "for line in lines {\n",
    "    let line = line.unwrap();\n",
    "    // If the line is empty, append the current total to counts array\n",
    "    // and reset counts to 0\n",
    "    if line.trim().is_empty() {\n",
    "        counts.push(count);\n",
    "        count = 0;\n",
    "    } else {\n",
    "        // if line is not empty, bump count by line value\n",
    "        count += line.parse::<i32>().unwrap();\n",
    "    }\n",
    "}\n",
    "\n",
    "counts.len()"
   ]
  },
  {
   "cell_type": "code",
   "execution_count": 5,
   "id": "c8fd764a-adb5-433f-b3e7-0da91e619b79",
   "metadata": {},
   "outputs": [
    {
     "data": {
      "text/plain": [
       "[70698, 69773, 66172, 65737, 64779, 64775, 63852, 63711, 63678, 63253]"
      ]
     },
     "execution_count": 5,
     "metadata": {},
     "output_type": "execute_result"
    }
   ],
   "source": [
    "counts.sort_by(|a, b| b.cmp(a)); \n",
    "counts[..10]"
   ]
  },
  {
   "cell_type": "code",
   "execution_count": 6,
   "id": "060ed3aa-920e-4129-b232-0ddc610334af",
   "metadata": {},
   "outputs": [
    {
     "data": {
      "text/plain": [
       "206643"
      ]
     },
     "execution_count": 6,
     "metadata": {},
     "output_type": "execute_result"
    }
   ],
   "source": [
    "let sum: i32 = counts[..3].iter().sum();\n",
    "sum"
   ]
  },
  {
   "cell_type": "code",
   "execution_count": null,
   "id": "c267d93b-c567-47a6-b60e-3360cdb2aada",
   "metadata": {},
   "outputs": [],
   "source": []
  }
 ],
 "metadata": {
  "kernelspec": {
   "display_name": "Rust",
   "language": "rust",
   "name": "rust"
  },
  "language_info": {
   "codemirror_mode": "rust",
   "file_extension": ".rs",
   "mimetype": "text/rust",
   "name": "Rust",
   "pygment_lexer": "rust",
   "version": ""
  }
 },
 "nbformat": 4,
 "nbformat_minor": 5
}
