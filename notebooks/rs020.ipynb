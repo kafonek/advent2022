{
 "cells": [
  {
   "cell_type": "markdown",
   "id": "4f6af95c-ed71-4f49-a9fe-ff8205e61279",
   "metadata": {},
   "source": [
    "The Elves begin to set up camp on the beach. To decide whose tent gets to be closest to the snack storage, a giant Rock Paper Scissors tournament is already in progress.\n",
    "\n",
    "Rock Paper Scissors is a game between two players. Each game contains many rounds; in each round, the players each simultaneously choose one of Rock, Paper, or Scissors using a hand shape. Then, a winner for that round is selected: Rock defeats Scissors, Scissors defeats Paper, and Paper defeats Rock. If both players choose the same shape, the round instead ends in a draw.\n",
    "\n",
    "Appreciative of your help yesterday, one Elf gives you an encrypted strategy guide (your puzzle input) that they say will be sure to help you win. \"The first column is what your opponent is going to play: A for Rock, B for Paper, and C for Scissors. The second column--\" Suddenly, the Elf is called away to help with someone's tent.\n",
    "\n",
    "The second column, you reason, must be what you should play in response: X for Rock, Y for Paper, and Z for Scissors. Winning every time would be suspicious, so the responses must have been carefully chosen.\n",
    "\n",
    "The winner of the whole tournament is the player with the highest score. Your total score is the sum of your scores for each round. The score for a single round is the score for the shape you selected (1 for Rock, 2 for Paper, and 3 for Scissors) plus the score for the outcome of the round (0 if you lost, 3 if the round was a draw, and 6 if you won).\n",
    "\n",
    "Since you can't be sure if the Elf is trying to help you or trick you, you should calculate the score you would get if you were to follow the strategy guide.\n",
    "\n",
    "For example, suppose you were given the following strategy guide:\n",
    "\n",
    "```\n",
    "A Y\n",
    "B X\n",
    "C Z\n",
    "```\n",
    "\n",
    "# Part 1\n",
    "\n",
    "This strategy guide predicts and recommends the following:\n",
    "\n",
    "- In the first round, your opponent will choose Rock (A), and you should choose Paper (Y). This ends in a win for you with a score of 8 (2 because you chose Paper + 6 because you won).\n",
    "- In the second round, your opponent will choose Paper (B), and you should choose Rock (X). This ends in a loss for you with a score of 1 (1 + 0).\n",
    "- The third round is a draw with both players choosing Scissors, giving you a score of 3 + 3 = 6.\n",
    "\n",
    "In this example, if you were to follow the strategy guide, you would get a total score of 15 (8 + 1 + 6).\n",
    "\n",
    "# Part 2\n",
    "\n",
    "The Elf finishes helping with the tent and sneaks back over to you. \"Anyway, the second column says how the round needs to end: X means you need to lose, Y means you need to end the round in a draw, and Z means you need to win. Good luck!\"\n",
    "\n",
    "The total score is still calculated in the same way, but now you need to figure out what shape to choose so the round ends as indicated. The example above now goes like this:\n",
    "\n",
    "- In the first round, your opponent will choose Rock (A), and you need the round to end in a draw (Y), so you also choose Rock. This gives you a score of 1 + 3 = 4.\n",
    "- In the second round, your opponent will choose Paper (B), and you choose Rock so you lose (X) with a score of 1 + 0 = 1.\n",
    "- In the third round, you will defeat your opponent's Scissors with Rock for a score of 1 + 6 = 7.\n",
    "\n",
    "Now that you're correctly decrypting the ultra top secret strategy guide, you would get a total score of 12."
   ]
  },
  {
   "cell_type": "code",
   "execution_count": 2,
   "id": "060ded4a-21cc-4c94-a5f3-385e4507ff26",
   "metadata": {},
   "outputs": [],
   "source": [
    "// This is my first foray into dealing with Strings in Rust and I am still\n",
    "// fairly confused about what to use where. Tough learning curve here.\n",
    "\n",
    "// without the derive(Debug) trait, Jupyter can't repr \"rps\" at end of cell\n",
    "#[derive(Debug, Clone)]\n",
    "pub struct RockPaperScissors {\n",
    "    input_value: String, // A, B, C, X, Y, Z\n",
    "    value: String, // 'rock', 'paper', 'scissors'\n",
    "    points: i32 // 1 for rock, 2 for paper, 3 for scissors\n",
    "}\n",
    "\n",
    "impl RockPaperScissors {\n",
    "    pub fn new(input_value: &str) -> Self {\n",
    "        let value: &str = match input_value {\n",
    "            \"A\" | \"X\" => \"rock\",\n",
    "            \"B\" | \"Y\" => \"paper\",\n",
    "            \"C\" | \"Z\" => \"scissors\",\n",
    "            _ => \"unknown\"\n",
    "        };\n",
    "        let points: i32 = match value {\n",
    "            \"rock\" => 1,\n",
    "            \"paper\" => 2,\n",
    "            \"scissors\" => 3,\n",
    "            _ => 0\n",
    "        };\n",
    "        RockPaperScissors { \n",
    "            input_value: input_value.to_string(), \n",
    "            value: value.to_string(), \n",
    "            points: points\n",
    "        }\n",
    "    }\n",
    "    \n",
    "    pub fn compare(&self, other: RockPaperScissors) -> i32 {\n",
    "        // win = 6, draw = 3, lose = 0\n",
    "        let points: i32 = match (self.value.as_str(), other.value.as_str()) {\n",
    "            (\"rock\", \"scissors\") | (\"paper\", \"rock\") | (\"scissors\", \"paper\") => 6,\n",
    "            (\"rock\", \"rock\") | (\"paper\", \"paper\") | (\"scissors\", \"scissors\") => 3,\n",
    "            _ => 0\n",
    "        };\n",
    "        points\n",
    "    }\n",
    "    \n",
    "    pub fn should_play(&self, other: RockPaperScissors) -> RockPaperScissors {\n",
    "        // applicable to part 2, determine what we should play from input_value and other value\n",
    "        let play: RockPaperScissors = match (self.input_value.as_str(), other.value.as_str()) {\n",
    "            // X = lose, Y = Draw, Z = Win\n",
    "            // return Rock (X) if we should lose to paper, draw to rock, win to scissors\n",
    "            (\"X\", \"paper\") | (\"Y\", \"rock\") | (\"Z\", \"scissors\") => RockPaperScissors::new(\"X\"),\n",
    "            // return Paper (Y) if we should lose to scissors, draw to paper, win to rock\n",
    "            (\"X\", \"scissors\") | (\"Y\", \"paper\") | (\"Z\", \"rock\") => RockPaperScissors::new(\"Y\"),\n",
    "            _ => RockPaperScissors::new(\"Z\"),\n",
    "        };\n",
    "        play\n",
    "    }\n",
    "}"
   ]
  },
  {
   "cell_type": "code",
   "execution_count": 3,
   "id": "ce548c7d-2962-46f8-a427-8d2fa4f1c7df",
   "metadata": {},
   "outputs": [
    {
     "data": {
      "text/plain": [
       "\"\\nA Y\\nB X\\nC Z\\n\""
      ]
     },
     "execution_count": 3,
     "metadata": {},
     "output_type": "execute_result"
    }
   ],
   "source": [
    "let text = \"\n",
    "A Y\n",
    "B X\n",
    "C Z\n",
    "\";\n",
    "text"
   ]
  },
  {
   "cell_type": "code",
   "execution_count": 4,
   "id": "427c93a3-7d39-4757-9915-80258af02c48",
   "metadata": {},
   "outputs": [
    {
     "data": {
      "text/plain": [
       "Lines(Map { iter: SplitTerminator(SplitInternal { start: 0, end: 11, matcher: CharSearcher { haystack: \"A Y\\nB X\\nC Z\", finger: 0, finger_back: 11, needle: '\\n', utf8_size: 1, utf8_encoded: [10, 0, 0, 0] }, allow_trailing_empty: false, finished: false }) })"
      ]
     },
     "execution_count": 4,
     "metadata": {},
     "output_type": "execute_result"
    }
   ],
   "source": [
    "let mut lines = text.trim().lines();\n",
    "lines"
   ]
  },
  {
   "cell_type": "code",
   "execution_count": 5,
   "id": "f59c5673-af62-4407-bd71-5272322407e1",
   "metadata": {},
   "outputs": [
    {
     "data": {
      "text/plain": [
       "\"A Y\""
      ]
     },
     "execution_count": 5,
     "metadata": {},
     "output_type": "execute_result"
    }
   ],
   "source": [
    "let s: &str = lines.next().unwrap();\n",
    "s"
   ]
  },
  {
   "cell_type": "code",
   "execution_count": 6,
   "id": "4ba4dc4a-c68a-45e6-a0bc-ef336960e93c",
   "metadata": {},
   "outputs": [
    {
     "data": {
      "text/plain": [
       "[RockPaperScissors { input_value: \"A\", value: \"rock\", points: 1 }, RockPaperScissors { input_value: \"Y\", value: \"paper\", points: 2 }]"
      ]
     },
     "execution_count": 6,
     "metadata": {},
     "output_type": "execute_result"
    }
   ],
   "source": [
    "let throws: Vec<RockPaperScissors> = s.split_whitespace().map(RockPaperScissors::new).collect();\n",
    "throws"
   ]
  },
  {
   "cell_type": "code",
   "execution_count": 7,
   "id": "c9d76d63-a933-4cb8-b9d6-f77ed6fabaa2",
   "metadata": {},
   "outputs": [
    {
     "data": {
      "text/plain": [
       "6"
      ]
     },
     "execution_count": 7,
     "metadata": {},
     "output_type": "execute_result"
    }
   ],
   "source": [
    "throws[1].clone().compare(throws[0].clone())"
   ]
  },
  {
   "cell_type": "code",
   "execution_count": 8,
   "id": "dd09e086-61c6-430d-a513-7af61a755764",
   "metadata": {},
   "outputs": [
    {
     "data": {
      "text/plain": [
       "[8, 1, 6]"
      ]
     },
     "execution_count": 8,
     "metadata": {},
     "output_type": "execute_result"
    }
   ],
   "source": [
    "// Part 1, total score comparing our throw to their throw\n",
    "\n",
    "let mut scores: Vec<i32> = Vec::new();\n",
    "let lines = text.trim().lines();\n",
    "\n",
    "for line in lines {\n",
    "    // Vector of two RPS objects (their throw, our throw)\n",
    "    let throws: Vec<RockPaperScissors> = line.split_whitespace().map(RockPaperScissors::new).collect();\n",
    "    let our_throw = throws[1].clone();\n",
    "    let their_throw = throws[0].clone();\n",
    "    let points: i32 = our_throw.compare(their_throw) + our_throw.points;\n",
    "    scores.push(points);\n",
    "}\n",
    "\n",
    "scores"
   ]
  },
  {
   "cell_type": "code",
   "execution_count": 9,
   "id": "03a298e5-b888-4434-98dd-4f0b49489032",
   "metadata": {},
   "outputs": [
    {
     "data": {
      "text/plain": [
       "15"
      ]
     },
     "execution_count": 9,
     "metadata": {},
     "output_type": "execute_result"
    }
   ],
   "source": [
    "let sum: i32 = scores.iter().sum();\n",
    "sum"
   ]
  },
  {
   "cell_type": "code",
   "execution_count": 10,
   "id": "b2f50ad3-5454-4d22-914d-bd079476decc",
   "metadata": {},
   "outputs": [
    {
     "data": {
      "text/plain": [
       "[4, 1, 7]"
      ]
     },
     "execution_count": 10,
     "metadata": {},
     "output_type": "execute_result"
    }
   ],
   "source": [
    "// Part 2, scores switching to should_play\n",
    "\n",
    "let mut scores: Vec<i32> = Vec::new();\n",
    "let lines = text.trim().lines();\n",
    "\n",
    "for line in lines {\n",
    "    // Vector of two RPS objects (their throw, our throw)\n",
    "    let throws: Vec<RockPaperScissors> = line.split_whitespace().map(RockPaperScissors::new).collect();\n",
    "    let our_throw = throws[1].clone();\n",
    "    let their_throw = throws[0].clone();\n",
    "    let should_play = our_throw.should_play(their_throw);\n",
    "    // The next line feels intuitivie but gets Error: use of moved value: `their_throw`\n",
    "    // Need to better understand borrowing and references...\n",
    "    //let points: i32 = should_play.compare(their_throw) + should_play.points;\n",
    "    let points: i32 = should_play.compare(throws[0].clone()) + should_play.points;\n",
    "    scores.push(points);\n",
    "}\n",
    "\n",
    "scores"
   ]
  },
  {
   "cell_type": "code",
   "execution_count": 11,
   "id": "309c4846-fe0c-4b0c-a358-0cb0475e9b7b",
   "metadata": {},
   "outputs": [
    {
     "data": {
      "text/plain": [
       "12"
      ]
     },
     "execution_count": 11,
     "metadata": {},
     "output_type": "execute_result"
    }
   ],
   "source": [
    "let sum: i32 = scores.iter().sum();\n",
    "sum"
   ]
  },
  {
   "cell_type": "code",
   "execution_count": null,
   "id": "4512d038-3188-4d75-a802-8905b9b99e2a",
   "metadata": {},
   "outputs": [],
   "source": []
  }
 ],
 "metadata": {
  "kernelspec": {
   "display_name": "Rust",
   "language": "rust",
   "name": "rust"
  },
  "language_info": {
   "codemirror_mode": "rust",
   "file_extension": ".rs",
   "mimetype": "text/rust",
   "name": "Rust",
   "pygment_lexer": "rust",
   "version": ""
  }
 },
 "nbformat": 4,
 "nbformat_minor": 5
}
