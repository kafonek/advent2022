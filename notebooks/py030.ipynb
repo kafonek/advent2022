{
 "cells": [
  {
   "cell_type": "markdown",
   "id": "456e4476-e123-4616-9b99-7e1b726be5f0",
   "metadata": {},
   "source": [
    "One Elf has the important job of loading all of the rucksacks with supplies for the jungle journey. Unfortunately, that Elf didn't quite follow the packing instructions, and so a few items now need to be rearranged.\n",
    "\n",
    "Each rucksack has two large compartments. All items of a given type are meant to go into exactly one of the two compartments. The Elf that did the packing failed to follow this rule for exactly one item type per rucksack.\n",
    "\n",
    "The Elves have made a list of all of the items currently in each rucksack (your puzzle input), but they need your help finding the errors. Every item type is identified by a single lowercase or uppercase letter (that is, a and A refer to different types of items).\n",
    "\n",
    "The list of items for each rucksack is given as characters all on a single line. A given rucksack always has the same number of items in each of its two compartments, so the first half of the characters represent items in the first compartment, while the second half of the characters represent items in the second compartment.\n",
    "\n",
    "For example, suppose you have the following list of contents from six rucksacks:\n",
    "\n",
    "```\n",
    "vJrwpWtwJgWrhcsFMMfFFhFp\n",
    "jqHRNqRjqzjGDLGLrsFMfFZSrLrFZsSL\n",
    "PmmdzqPrVvPwwTWBwg\n",
    "wMqvLMZHhHMvwLHjbvcjnnSBnvTQFn\n",
    "ttgJtRGJQctTZtZT\n",
    "CrZsJsPPZsGzwwsLwLmpwMDw\n",
    "```\n",
    "\n",
    "- The first rucksack contains the items vJrwpWtwJgWrhcsFMMfFFhFp, which means its first compartment contains the items vJrwpWtwJgWr, while the second compartment contains the items hcsFMMfFFhFp. The only item type that appears in both compartments is lowercase p.\n",
    "- The second rucksack's compartments contain jqHRNqRjqzjGDLGL and rsFMfFZSrLrFZsSL. The only item type that appears in both compartments is uppercase L.\n",
    "- The third rucksack's compartments contain PmmdzqPrV and vPwwTWBwg; the only common item type is uppercase P.\n",
    "- The fourth rucksack's compartments only share item type v.\n",
    "- The fifth rucksack's compartments only share item type t.\n",
    "- The sixth rucksack's compartments only share item type s.\n",
    "\n",
    "## Part 1\n",
    "\n",
    "To help prioritize item rearrangement, every item type can be converted to a priority:\n",
    "\n",
    "Lowercase item types a through z have priorities 1 through 26.\n",
    "Uppercase item types A through Z have priorities 27 through 52.\n",
    "In the above example, the priority of the item type that appears in both compartments of each rucksack is 16 (p), 38 (L), 42 (P), 22 (v), 20 (t), and 19 (s); the sum of these is 157.\n",
    "\n",
    "## Part 2\n",
    "\n",
    "As you finish identifying the misplaced items, the Elves come to you with another issue.\n",
    "\n",
    "For safety, the Elves are divided into groups of three. Every Elf carries a badge that identifies their group. For efficiency, within each group of three Elves, the badge is the only item type carried by all three Elves. That is, if a group's badge is item type B, then all three Elves will have item type B somewhere in their rucksack, and at most two of the Elves will be carrying any other item type.\n",
    "\n",
    "The problem is that someone forgot to put this year's updated authenticity sticker on the badges. All of the badges need to be pulled out of the rucksacks so the new authenticity stickers can be attached.\n",
    "\n",
    "Additionally, nobody wrote down which item type corresponds to each group's badges. The only way to tell which item type is the right one is by finding the one item type that is common between all three Elves in each group.\n",
    "\n",
    "Every set of three lines in your list corresponds to a single group, but each group can have a different badge item type. So, in the above example, the first group's rucksacks are the first three lines:\n",
    "\n",
    "```\n",
    "vJrwpWtwJgWrhcsFMMfFFhFp\n",
    "jqHRNqRjqzjGDLGLrsFMfFZSrLrFZsSL\n",
    "PmmdzqPrVvPwwTWBwg\n",
    "```\n",
    "\n",
    "And the second group's rucksacks are the next three lines:\n",
    "\n",
    "```\n",
    "wMqvLMZHhHMvwLHjbvcjnnSBnvTQFn\n",
    "ttgJtRGJQctTZtZT\n",
    "CrZsJsPPZsGzwwsLwLmpwMDw\n",
    "```\n",
    "\n",
    "In the first group, the only item type that appears in all three rucksacks is lowercase r; this must be their badges. In the second group, their badge item type must be Z.\n",
    "\n",
    "Priorities for these items must still be found to organize the sticker attachment efforts: here, they are 18 (r) for the first group and 52 (Z) for the second group. The sum of these is 70."
   ]
  },
  {
   "cell_type": "code",
   "execution_count": 4,
   "id": "c6bf4205-6ff6-44c7-be6f-c0480a7f0f34",
   "metadata": {},
   "outputs": [
    {
     "data": {
      "text/plain": [
       "6"
      ]
     },
     "execution_count": 4,
     "metadata": {},
     "output_type": "execute_result"
    }
   ],
   "source": [
    "import io\n",
    "\n",
    "data = io.StringIO(\"\"\"\n",
    "vJrwpWtwJgWrhcsFMMfFFhFp\n",
    "jqHRNqRjqzjGDLGLrsFMfFZSrLrFZsSL\n",
    "PmmdzqPrVvPwwTWBwg\n",
    "wMqvLMZHhHMvwLHjbvcjnnSBnvTQFn\n",
    "ttgJtRGJQctTZtZT\n",
    "CrZsJsPPZsGzwwsLwLmpwMDw\n",
    "\"\"\".strip())\n",
    "\n",
    "lines = data.readlines()\n",
    "len(lines)"
   ]
  },
  {
   "cell_type": "code",
   "execution_count": 6,
   "id": "428d56e7-bd5f-46b9-a0e5-f5b4a6c6f389",
   "metadata": {},
   "outputs": [
    {
     "data": {
      "text/plain": [
       "['vJrwpWtwJgWrhcsFMMfFFhFp\\n',\n",
       " 'jqHRNqRjqzjGDLGLrsFMfFZSrLrFZsSL\\n',\n",
       " 'PmmdzqPrVvPwwTWBwg\\n']"
      ]
     },
     "execution_count": 6,
     "metadata": {},
     "output_type": "execute_result"
    }
   ],
   "source": [
    "lines[:3]"
   ]
  },
  {
   "cell_type": "code",
   "execution_count": 24,
   "id": "fe9c1ea7-2ed0-4626-9766-f3e2c1b95731",
   "metadata": {},
   "outputs": [
    {
     "data": {
      "text/plain": [
       "([(' ', 0), ('a', 1), ('b', 2), ('c', 3), ('d', 4)],\n",
       " [('V', 48), ('W', 49), ('X', 50), ('Y', 51), ('Z', 52)])"
      ]
     },
     "execution_count": 24,
     "metadata": {},
     "output_type": "execute_result"
    }
   ],
   "source": [
    "letter_values = {letter: idx for idx, letter in enumerate(' abcdefghijklmnopqrstuvwxyzABCDEFGHIJKLMNOPQRSTUVWXYZ')}\n",
    "list(letter_values.items())[:5], list(letter_values.items())[-5:]"
   ]
  },
  {
   "cell_type": "code",
   "execution_count": 26,
   "id": "f83b9d79-f705-40aa-9684-61a7f7dcd431",
   "metadata": {},
   "outputs": [
    {
     "data": {
      "text/plain": [
       "6"
      ]
     },
     "execution_count": 26,
     "metadata": {},
     "output_type": "execute_result"
    }
   ],
   "source": [
    "### Part 1\n",
    "points = []\n",
    "\n",
    "for line in lines:\n",
    "    line = line.strip()\n",
    "    split_point = int(len(line) / 2)\n",
    "    a, b = line[:split_point], line[split_point:]\n",
    "    \n",
    "    shared_items = set([item for item in a if item in b])\n",
    "    total = 0\n",
    "    for item in shared_items:\n",
    "        total += letter_values[item]\n",
    "    points.append(total)\n",
    "    \n",
    "len(points)"
   ]
  },
  {
   "cell_type": "code",
   "execution_count": 27,
   "id": "b7f9077f-7ad1-4b41-8853-7ca9fd61cc20",
   "metadata": {},
   "outputs": [
    {
     "data": {
      "text/plain": [
       "[16, 38, 42, 22, 20, 19]"
      ]
     },
     "execution_count": 27,
     "metadata": {},
     "output_type": "execute_result"
    }
   ],
   "source": [
    "points"
   ]
  },
  {
   "cell_type": "code",
   "execution_count": 28,
   "id": "c6539d12-e9c8-472e-bb50-150a4a2811e2",
   "metadata": {},
   "outputs": [
    {
     "data": {
      "text/plain": [
       "157"
      ]
     },
     "execution_count": 28,
     "metadata": {},
     "output_type": "execute_result"
    }
   ],
   "source": [
    "sum(points)"
   ]
  },
  {
   "cell_type": "code",
   "execution_count": 31,
   "id": "adead4eb-7b29-4407-95be-f9e991f63701",
   "metadata": {},
   "outputs": [
    {
     "data": {
      "text/plain": [
       "2"
      ]
     },
     "execution_count": 31,
     "metadata": {},
     "output_type": "execute_result"
    }
   ],
   "source": [
    "### Part 2\n",
    "groups = []\n",
    "\n",
    "i = 0\n",
    "group = []\n",
    "for line in lines:\n",
    "    if i == 3:\n",
    "        groups.append(group)\n",
    "        group = []\n",
    "        i = 0\n",
    "    group.append(line.strip())\n",
    "    i += 1\n",
    "\n",
    "groups.append(group)\n",
    "\n",
    "len(groups)"
   ]
  },
  {
   "cell_type": "code",
   "execution_count": 32,
   "id": "33df2113-4f53-457d-a506-5cdcdf4e53a6",
   "metadata": {},
   "outputs": [
    {
     "data": {
      "text/plain": [
       "[['vJrwpWtwJgWrhcsFMMfFFhFp',\n",
       "  'jqHRNqRjqzjGDLGLrsFMfFZSrLrFZsSL',\n",
       "  'PmmdzqPrVvPwwTWBwg'],\n",
       " ['wMqvLMZHhHMvwLHjbvcjnnSBnvTQFn',\n",
       "  'ttgJtRGJQctTZtZT',\n",
       "  'CrZsJsPPZsGzwwsLwLmpwMDw']]"
      ]
     },
     "execution_count": 32,
     "metadata": {},
     "output_type": "execute_result"
    }
   ],
   "source": [
    "groups"
   ]
  },
  {
   "cell_type": "code",
   "execution_count": 34,
   "id": "41e0cad9-d335-4be8-b757-5f4fe27f1343",
   "metadata": {},
   "outputs": [
    {
     "data": {
      "text/plain": [
       "[18, 52]"
      ]
     },
     "execution_count": 34,
     "metadata": {},
     "output_type": "execute_result"
    }
   ],
   "source": [
    "points = []\n",
    "\n",
    "for group in groups:\n",
    "    for letter in group[0]:\n",
    "        if letter in group[1] and letter in group[2]:\n",
    "            shared_letter = letter\n",
    "            points.append(letter_values[shared_letter])\n",
    "            break\n",
    "            \n",
    "points   "
   ]
  },
  {
   "cell_type": "code",
   "execution_count": 35,
   "id": "ea631b1f-6ce4-45a0-8681-79124bc30a0d",
   "metadata": {},
   "outputs": [
    {
     "data": {
      "text/plain": [
       "70"
      ]
     },
     "execution_count": 35,
     "metadata": {},
     "output_type": "execute_result"
    }
   ],
   "source": [
    "sum(points)"
   ]
  },
  {
   "cell_type": "code",
   "execution_count": null,
   "id": "ac4ad09d-5316-46d5-9cee-4602e327268e",
   "metadata": {},
   "outputs": [],
   "source": []
  }
 ],
 "metadata": {
  "kernelspec": {
   "display_name": "Python 3 (ipykernel)",
   "language": "python",
   "name": "python3"
  },
  "language_info": {
   "codemirror_mode": {
    "name": "ipython",
    "version": 3
   },
   "file_extension": ".py",
   "mimetype": "text/x-python",
   "name": "python",
   "nbconvert_exporter": "python",
   "pygments_lexer": "ipython3",
   "version": "3.10.2"
  }
 },
 "nbformat": 4,
 "nbformat_minor": 5
}
