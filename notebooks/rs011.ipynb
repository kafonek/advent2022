{
 "cells": [
  {
   "cell_type": "code",
   "execution_count": 2,
   "id": "be56a948-0519-4e0e-b074-b718475936e5",
   "metadata": {},
   "outputs": [
    {
     "data": {
      "text/plain": [
       "Lines { buf: BufReader { reader: File { fd: 3, path: \"/home/kafonek/advent2022/data/01.txt\", read: true, write: false }, buffer: 0/8192 } }"
      ]
     },
     "execution_count": 2,
     "metadata": {},
     "output_type": "execute_result"
    }
   ],
   "source": [
    "use std::fs::File;\n",
    "use std::io::{BufRead, BufReader};\n",
    "\n",
    "let reader = BufReader::new(File::open(\"../data/01.txt\")?);\n",
    "let lines = reader.lines();\n",
    "lines"
   ]
  },
  {
   "cell_type": "code",
   "execution_count": 3,
   "id": "44400a27-5dff-4d42-ac19-8e91bb5bd546",
   "metadata": {},
   "outputs": [
    {
     "data": {
      "text/plain": [
       "2253"
      ]
     },
     "execution_count": 3,
     "metadata": {},
     "output_type": "execute_result"
    }
   ],
   "source": [
    "lines.count()"
   ]
  },
  {
   "cell_type": "code",
   "execution_count": 4,
   "id": "75ea09cf-54fe-4bbc-83ec-daa539ccb298",
   "metadata": {},
   "outputs": [
    {
     "data": {
      "text/plain": [
       "254"
      ]
     },
     "execution_count": 4,
     "metadata": {},
     "output_type": "execute_result"
    }
   ],
   "source": [
    "let mut counts: Vec<i32> = Vec::new();\n",
    "let mut count: i32 = 0;\n",
    "\n",
    "// repeated from cell1, otherwise get \"lines not in scope\", not sure why yet\n",
    "let reader = BufReader::new(File::open(\"../data/01.txt\")?);\n",
    "let lines = reader.lines();\n",
    "\n",
    "// Group lines into sums of integers delimited by empty lines\n",
    "for line in lines {\n",
    "    let line = line.unwrap();\n",
    "    // If the line is empty, append the current total to counts array\n",
    "    // and reset counts to 0\n",
    "    if line.trim().is_empty() {\n",
    "        counts.push(count);\n",
    "        count = 0;\n",
    "    } else {\n",
    "        // if line is not empty, bump count by line value\n",
    "        count += line.parse::<i32>().unwrap();\n",
    "    }\n",
    "}\n",
    "\n",
    "counts.len()"
   ]
  },
  {
   "cell_type": "code",
   "execution_count": 5,
   "id": "ec28f8fe-57c8-49de-808d-9f3c7e844dbf",
   "metadata": {},
   "outputs": [
    {
     "data": {
      "text/plain": [
       "Some(70698)"
      ]
     },
     "execution_count": 5,
     "metadata": {},
     "output_type": "execute_result"
    }
   ],
   "source": [
    "counts.iter().max()"
   ]
  },
  {
   "cell_type": "code",
   "execution_count": null,
   "id": "d0d6dca5-737e-4e99-970c-f7ef9fd1b1e2",
   "metadata": {},
   "outputs": [],
   "source": []
  }
 ],
 "metadata": {
  "kernelspec": {
   "display_name": "Rust",
   "language": "rust",
   "name": "rust"
  },
  "language_info": {
   "codemirror_mode": "rust",
   "file_extension": ".rs",
   "mimetype": "text/rust",
   "name": "Rust",
   "pygment_lexer": "rust",
   "version": ""
  }
 },
 "nbformat": 4,
 "nbformat_minor": 5
}
